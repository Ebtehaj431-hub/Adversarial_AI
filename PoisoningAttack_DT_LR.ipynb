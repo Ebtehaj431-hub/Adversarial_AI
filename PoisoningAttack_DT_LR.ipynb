{
 "cells": [
  {
   "cell_type": "code",
   "execution_count": 1,
   "id": "3f44e1cc",
   "metadata": {},
   "outputs": [],
   "source": [
    "import random\n",
    "import math\n",
    "import numpy as np # linear algebra\n",
    "import matplotlib.pyplot as plt\n",
    "import pandas as pd # data processing, CSV file I/O\n",
    "from sklearn.ensemble import RandomForestClassifier\n",
    "from sklearn.model_selection import train_test_split\n",
    "from sklearn.model_selection import cross_val_score, cross_val_predict\n",
    "from sklearn.metrics import accuracy_score, classification_report, confusion_matrix"
   ]
  },
  {
   "cell_type": "code",
   "execution_count": 2,
   "id": "1ed1e847",
   "metadata": {},
   "outputs": [],
   "source": [
    "gan_df = pd.read_csv('Generated_sample.csv')\n",
    "gan_df.drop('Unnamed: 0' , axis = 1 , inplace =True)"
   ]
  },
  {
   "cell_type": "code",
   "execution_count": 3,
   "id": "b6ce4f0e",
   "metadata": {},
   "outputs": [
    {
     "data": {
      "text/html": [
       "<div>\n",
       "<style scoped>\n",
       "    .dataframe tbody tr th:only-of-type {\n",
       "        vertical-align: middle;\n",
       "    }\n",
       "\n",
       "    .dataframe tbody tr th {\n",
       "        vertical-align: top;\n",
       "    }\n",
       "\n",
       "    .dataframe thead th {\n",
       "        text-align: right;\n",
       "    }\n",
       "</style>\n",
       "<table border=\"1\" class=\"dataframe\">\n",
       "  <thead>\n",
       "    <tr style=\"text-align: right;\">\n",
       "      <th></th>\n",
       "      <th>DestinationPort</th>\n",
       "      <th>FlowDuration</th>\n",
       "      <th>TotalFwdPackets</th>\n",
       "      <th>TotalBackwardPackets</th>\n",
       "      <th>TotalLengthofFwdPackets</th>\n",
       "      <th>TotalLengthofBwdPackets</th>\n",
       "      <th>FwdPacketLengthMax</th>\n",
       "      <th>FwdPacketLengthMin</th>\n",
       "      <th>FwdPacketLengthMean</th>\n",
       "      <th>FwdPacketLengthStd</th>\n",
       "      <th>...</th>\n",
       "      <th>min_seg_size_forward</th>\n",
       "      <th>ActiveMean</th>\n",
       "      <th>ActiveStd</th>\n",
       "      <th>ActiveMax</th>\n",
       "      <th>ActiveMin</th>\n",
       "      <th>IdleMean</th>\n",
       "      <th>IdleStd</th>\n",
       "      <th>IdleMax</th>\n",
       "      <th>IdleMin</th>\n",
       "      <th>Label</th>\n",
       "    </tr>\n",
       "  </thead>\n",
       "  <tbody>\n",
       "    <tr>\n",
       "      <th>0</th>\n",
       "      <td>-0.459144</td>\n",
       "      <td>0.085274</td>\n",
       "      <td>0.240084</td>\n",
       "      <td>0.930689</td>\n",
       "      <td>-0.276472</td>\n",
       "      <td>1.350602</td>\n",
       "      <td>-0.170113</td>\n",
       "      <td>-0.917232</td>\n",
       "      <td>-0.463696</td>\n",
       "      <td>0.882105</td>\n",
       "      <td>...</td>\n",
       "      <td>-0.840757</td>\n",
       "      <td>-0.444501</td>\n",
       "      <td>-0.279157</td>\n",
       "      <td>-0.451358</td>\n",
       "      <td>-0.431238</td>\n",
       "      <td>-0.469557</td>\n",
       "      <td>-0.253950</td>\n",
       "      <td>-0.492483</td>\n",
       "      <td>-0.443649</td>\n",
       "      <td>2.718807</td>\n",
       "    </tr>\n",
       "    <tr>\n",
       "      <th>1</th>\n",
       "      <td>-0.532525</td>\n",
       "      <td>0.336711</td>\n",
       "      <td>0.221567</td>\n",
       "      <td>0.986129</td>\n",
       "      <td>-0.326226</td>\n",
       "      <td>1.513589</td>\n",
       "      <td>-0.149951</td>\n",
       "      <td>-0.984836</td>\n",
       "      <td>-0.491035</td>\n",
       "      <td>0.953570</td>\n",
       "      <td>...</td>\n",
       "      <td>-0.889071</td>\n",
       "      <td>-0.505402</td>\n",
       "      <td>-0.301250</td>\n",
       "      <td>-0.491262</td>\n",
       "      <td>-0.457482</td>\n",
       "      <td>-0.502724</td>\n",
       "      <td>-0.296481</td>\n",
       "      <td>-0.491243</td>\n",
       "      <td>-0.468101</td>\n",
       "      <td>2.980018</td>\n",
       "    </tr>\n",
       "    <tr>\n",
       "      <th>2</th>\n",
       "      <td>-0.524784</td>\n",
       "      <td>0.852361</td>\n",
       "      <td>0.319243</td>\n",
       "      <td>1.160202</td>\n",
       "      <td>-0.371111</td>\n",
       "      <td>1.722526</td>\n",
       "      <td>-0.282636</td>\n",
       "      <td>-1.101251</td>\n",
       "      <td>-0.513065</td>\n",
       "      <td>1.131595</td>\n",
       "      <td>...</td>\n",
       "      <td>-1.111123</td>\n",
       "      <td>-0.449634</td>\n",
       "      <td>-0.373656</td>\n",
       "      <td>-0.483931</td>\n",
       "      <td>-0.546717</td>\n",
       "      <td>-0.642743</td>\n",
       "      <td>-0.282576</td>\n",
       "      <td>-0.600369</td>\n",
       "      <td>-0.557923</td>\n",
       "      <td>3.319430</td>\n",
       "    </tr>\n",
       "    <tr>\n",
       "      <th>3</th>\n",
       "      <td>-0.438450</td>\n",
       "      <td>0.588646</td>\n",
       "      <td>-0.271242</td>\n",
       "      <td>0.886539</td>\n",
       "      <td>-0.422280</td>\n",
       "      <td>1.387528</td>\n",
       "      <td>-0.178980</td>\n",
       "      <td>-0.894761</td>\n",
       "      <td>-0.340922</td>\n",
       "      <td>0.995208</td>\n",
       "      <td>...</td>\n",
       "      <td>-0.872311</td>\n",
       "      <td>-0.441382</td>\n",
       "      <td>-0.290450</td>\n",
       "      <td>-0.463084</td>\n",
       "      <td>-0.446277</td>\n",
       "      <td>-0.442476</td>\n",
       "      <td>-0.235062</td>\n",
       "      <td>-0.466870</td>\n",
       "      <td>-0.420811</td>\n",
       "      <td>2.683105</td>\n",
       "    </tr>\n",
       "    <tr>\n",
       "      <th>4</th>\n",
       "      <td>-0.410993</td>\n",
       "      <td>0.651405</td>\n",
       "      <td>-0.296635</td>\n",
       "      <td>0.941144</td>\n",
       "      <td>-0.434272</td>\n",
       "      <td>1.381380</td>\n",
       "      <td>-0.213349</td>\n",
       "      <td>-0.885433</td>\n",
       "      <td>-0.370413</td>\n",
       "      <td>1.049478</td>\n",
       "      <td>...</td>\n",
       "      <td>-0.872205</td>\n",
       "      <td>-0.449754</td>\n",
       "      <td>-0.292223</td>\n",
       "      <td>-0.464305</td>\n",
       "      <td>-0.457972</td>\n",
       "      <td>-0.403181</td>\n",
       "      <td>-0.271818</td>\n",
       "      <td>-0.485173</td>\n",
       "      <td>-0.420672</td>\n",
       "      <td>2.735113</td>\n",
       "    </tr>\n",
       "    <tr>\n",
       "      <th>5</th>\n",
       "      <td>-0.463084</td>\n",
       "      <td>0.750041</td>\n",
       "      <td>-0.326220</td>\n",
       "      <td>1.065835</td>\n",
       "      <td>-0.507639</td>\n",
       "      <td>1.609692</td>\n",
       "      <td>-0.238769</td>\n",
       "      <td>-1.021632</td>\n",
       "      <td>-0.440928</td>\n",
       "      <td>1.212783</td>\n",
       "      <td>...</td>\n",
       "      <td>-1.028316</td>\n",
       "      <td>-0.512807</td>\n",
       "      <td>-0.343769</td>\n",
       "      <td>-0.540327</td>\n",
       "      <td>-0.530444</td>\n",
       "      <td>-0.485582</td>\n",
       "      <td>-0.309404</td>\n",
       "      <td>-0.599417</td>\n",
       "      <td>-0.504833</td>\n",
       "      <td>3.200650</td>\n",
       "    </tr>\n",
       "    <tr>\n",
       "      <th>6</th>\n",
       "      <td>-0.444191</td>\n",
       "      <td>0.660019</td>\n",
       "      <td>-0.298927</td>\n",
       "      <td>0.951819</td>\n",
       "      <td>-0.449466</td>\n",
       "      <td>1.476635</td>\n",
       "      <td>-0.194347</td>\n",
       "      <td>-0.943506</td>\n",
       "      <td>-0.382021</td>\n",
       "      <td>1.100944</td>\n",
       "      <td>...</td>\n",
       "      <td>-0.933851</td>\n",
       "      <td>-0.482515</td>\n",
       "      <td>-0.307304</td>\n",
       "      <td>-0.485461</td>\n",
       "      <td>-0.476420</td>\n",
       "      <td>-0.479861</td>\n",
       "      <td>-0.256112</td>\n",
       "      <td>-0.523545</td>\n",
       "      <td>-0.445831</td>\n",
       "      <td>2.920707</td>\n",
       "    </tr>\n",
       "    <tr>\n",
       "      <th>7</th>\n",
       "      <td>-0.609602</td>\n",
       "      <td>0.209315</td>\n",
       "      <td>0.296773</td>\n",
       "      <td>1.223601</td>\n",
       "      <td>-0.355154</td>\n",
       "      <td>1.731387</td>\n",
       "      <td>-0.272223</td>\n",
       "      <td>-1.152826</td>\n",
       "      <td>-0.582774</td>\n",
       "      <td>1.186592</td>\n",
       "      <td>...</td>\n",
       "      <td>-1.058991</td>\n",
       "      <td>-0.558859</td>\n",
       "      <td>-0.319479</td>\n",
       "      <td>-0.545870</td>\n",
       "      <td>-0.538428</td>\n",
       "      <td>-0.503069</td>\n",
       "      <td>-0.236482</td>\n",
       "      <td>-0.651681</td>\n",
       "      <td>-0.535902</td>\n",
       "      <td>3.515975</td>\n",
       "    </tr>\n",
       "    <tr>\n",
       "      <th>8</th>\n",
       "      <td>-0.560382</td>\n",
       "      <td>0.416730</td>\n",
       "      <td>0.280396</td>\n",
       "      <td>1.023498</td>\n",
       "      <td>-0.368008</td>\n",
       "      <td>1.626376</td>\n",
       "      <td>-0.205847</td>\n",
       "      <td>-1.074645</td>\n",
       "      <td>-0.538324</td>\n",
       "      <td>1.041522</td>\n",
       "      <td>...</td>\n",
       "      <td>-0.984167</td>\n",
       "      <td>-0.543986</td>\n",
       "      <td>-0.308810</td>\n",
       "      <td>-0.550361</td>\n",
       "      <td>-0.486102</td>\n",
       "      <td>-0.550879</td>\n",
       "      <td>-0.307589</td>\n",
       "      <td>-0.563191</td>\n",
       "      <td>-0.525944</td>\n",
       "      <td>3.234569</td>\n",
       "    </tr>\n",
       "    <tr>\n",
       "      <th>9</th>\n",
       "      <td>-0.425611</td>\n",
       "      <td>0.729029</td>\n",
       "      <td>-0.322086</td>\n",
       "      <td>1.033918</td>\n",
       "      <td>-0.475782</td>\n",
       "      <td>1.522625</td>\n",
       "      <td>-0.232831</td>\n",
       "      <td>-0.964269</td>\n",
       "      <td>-0.407366</td>\n",
       "      <td>1.166715</td>\n",
       "      <td>...</td>\n",
       "      <td>-0.985910</td>\n",
       "      <td>-0.489929</td>\n",
       "      <td>-0.327681</td>\n",
       "      <td>-0.514455</td>\n",
       "      <td>-0.501794</td>\n",
       "      <td>-0.432515</td>\n",
       "      <td>-0.285933</td>\n",
       "      <td>-0.560454</td>\n",
       "      <td>-0.472245</td>\n",
       "      <td>3.013362</td>\n",
       "    </tr>\n",
       "  </tbody>\n",
       "</table>\n",
       "<p>10 rows × 79 columns</p>\n",
       "</div>"
      ],
      "text/plain": [
       "   DestinationPort  FlowDuration  TotalFwdPackets  TotalBackwardPackets  \\\n",
       "0        -0.459144      0.085274         0.240084              0.930689   \n",
       "1        -0.532525      0.336711         0.221567              0.986129   \n",
       "2        -0.524784      0.852361         0.319243              1.160202   \n",
       "3        -0.438450      0.588646        -0.271242              0.886539   \n",
       "4        -0.410993      0.651405        -0.296635              0.941144   \n",
       "5        -0.463084      0.750041        -0.326220              1.065835   \n",
       "6        -0.444191      0.660019        -0.298927              0.951819   \n",
       "7        -0.609602      0.209315         0.296773              1.223601   \n",
       "8        -0.560382      0.416730         0.280396              1.023498   \n",
       "9        -0.425611      0.729029        -0.322086              1.033918   \n",
       "\n",
       "   TotalLengthofFwdPackets  TotalLengthofBwdPackets  FwdPacketLengthMax  \\\n",
       "0                -0.276472                 1.350602           -0.170113   \n",
       "1                -0.326226                 1.513589           -0.149951   \n",
       "2                -0.371111                 1.722526           -0.282636   \n",
       "3                -0.422280                 1.387528           -0.178980   \n",
       "4                -0.434272                 1.381380           -0.213349   \n",
       "5                -0.507639                 1.609692           -0.238769   \n",
       "6                -0.449466                 1.476635           -0.194347   \n",
       "7                -0.355154                 1.731387           -0.272223   \n",
       "8                -0.368008                 1.626376           -0.205847   \n",
       "9                -0.475782                 1.522625           -0.232831   \n",
       "\n",
       "   FwdPacketLengthMin  FwdPacketLengthMean  FwdPacketLengthStd  ...  \\\n",
       "0           -0.917232            -0.463696            0.882105  ...   \n",
       "1           -0.984836            -0.491035            0.953570  ...   \n",
       "2           -1.101251            -0.513065            1.131595  ...   \n",
       "3           -0.894761            -0.340922            0.995208  ...   \n",
       "4           -0.885433            -0.370413            1.049478  ...   \n",
       "5           -1.021632            -0.440928            1.212783  ...   \n",
       "6           -0.943506            -0.382021            1.100944  ...   \n",
       "7           -1.152826            -0.582774            1.186592  ...   \n",
       "8           -1.074645            -0.538324            1.041522  ...   \n",
       "9           -0.964269            -0.407366            1.166715  ...   \n",
       "\n",
       "   min_seg_size_forward  ActiveMean  ActiveStd  ActiveMax  ActiveMin  \\\n",
       "0             -0.840757   -0.444501  -0.279157  -0.451358  -0.431238   \n",
       "1             -0.889071   -0.505402  -0.301250  -0.491262  -0.457482   \n",
       "2             -1.111123   -0.449634  -0.373656  -0.483931  -0.546717   \n",
       "3             -0.872311   -0.441382  -0.290450  -0.463084  -0.446277   \n",
       "4             -0.872205   -0.449754  -0.292223  -0.464305  -0.457972   \n",
       "5             -1.028316   -0.512807  -0.343769  -0.540327  -0.530444   \n",
       "6             -0.933851   -0.482515  -0.307304  -0.485461  -0.476420   \n",
       "7             -1.058991   -0.558859  -0.319479  -0.545870  -0.538428   \n",
       "8             -0.984167   -0.543986  -0.308810  -0.550361  -0.486102   \n",
       "9             -0.985910   -0.489929  -0.327681  -0.514455  -0.501794   \n",
       "\n",
       "   IdleMean   IdleStd   IdleMax   IdleMin     Label  \n",
       "0 -0.469557 -0.253950 -0.492483 -0.443649  2.718807  \n",
       "1 -0.502724 -0.296481 -0.491243 -0.468101  2.980018  \n",
       "2 -0.642743 -0.282576 -0.600369 -0.557923  3.319430  \n",
       "3 -0.442476 -0.235062 -0.466870 -0.420811  2.683105  \n",
       "4 -0.403181 -0.271818 -0.485173 -0.420672  2.735113  \n",
       "5 -0.485582 -0.309404 -0.599417 -0.504833  3.200650  \n",
       "6 -0.479861 -0.256112 -0.523545 -0.445831  2.920707  \n",
       "7 -0.503069 -0.236482 -0.651681 -0.535902  3.515975  \n",
       "8 -0.550879 -0.307589 -0.563191 -0.525944  3.234569  \n",
       "9 -0.432515 -0.285933 -0.560454 -0.472245  3.013362  \n",
       "\n",
       "[10 rows x 79 columns]"
      ]
     },
     "execution_count": 3,
     "metadata": {},
     "output_type": "execute_result"
    }
   ],
   "source": [
    "gan_df.head(10)"
   ]
  },
  {
   "cell_type": "code",
   "execution_count": 4,
   "id": "88d95249",
   "metadata": {},
   "outputs": [],
   "source": [
    "gan_df.Label = gan_df.Label.apply(lambda x : math.floor(x))"
   ]
  },
  {
   "cell_type": "code",
   "execution_count": 5,
   "id": "eff01d33",
   "metadata": {},
   "outputs": [
    {
     "name": "stdout",
     "output_type": "stream",
     "text": [
      "3    27967\n",
      "2    21471\n",
      "4      546\n",
      "5       15\n",
      "6        1\n",
      "Name: Label, dtype: int64\n"
     ]
    },
    {
     "data": {
      "text/plain": [
       "(50000, 79)"
      ]
     },
     "execution_count": 5,
     "metadata": {},
     "output_type": "execute_result"
    }
   ],
   "source": [
    "print(gan_df['Label'].value_counts())\n",
    "gan_df.shape"
   ]
  },
  {
   "cell_type": "code",
   "execution_count": 6,
   "id": "e8f9f6b5",
   "metadata": {},
   "outputs": [],
   "source": [
    "## implement Fliping Function \n",
    "labelFlibbed = []\n",
    "RowData = []\n",
    "def RandomLabelFlipFunction(df , percentage):\n",
    "    n = len(df['Label'])\n",
    "    percent = percentage\n",
    "    for i in range(n):\n",
    "        if i in random.sample(list(range(n)),int(percent*n)):\n",
    "            labelFlibbed.append(df['Label'][i]==0)\n",
    "            value = np.array(df.iloc[i][:-1])\n",
    "            RowData.append(value)\n",
    "\n",
    "        else:\n",
    "            labelFlibbed.append(df['Label'][i])\n",
    "            value = np.array(df.iloc[i][:-1])\n",
    "            RowData.append(value)\n",
    "    return RowData , labelFlibbed"
   ]
  },
  {
   "cell_type": "code",
   "execution_count": 7,
   "id": "ded1eec0",
   "metadata": {},
   "outputs": [],
   "source": [
    "RowData ,labelFlibbed =  RandomLabelFlipFunction(gan_df , 0.75)"
   ]
  },
  {
   "cell_type": "code",
   "execution_count": 8,
   "id": "28f27d9e",
   "metadata": {},
   "outputs": [
    {
     "name": "stdout",
     "output_type": "stream",
     "text": [
      "labelFlibbed 50000\n",
      "RowData 50000\n"
     ]
    }
   ],
   "source": [
    "print(\"labelFlibbed\", len(labelFlibbed))\n",
    "print(\"RowData\", len(RowData))"
   ]
  },
  {
   "cell_type": "code",
   "execution_count": 9,
   "id": "ff97e2dc",
   "metadata": {},
   "outputs": [],
   "source": [
    "df = pd.read_csv(\"Normalized.csv\")"
   ]
  },
  {
   "cell_type": "code",
   "execution_count": 10,
   "id": "f65dcd13",
   "metadata": {},
   "outputs": [],
   "source": [
    "# the functions: https://www.kaggle.com/flaviobossolan/stratified-sampling-python/notebook\n",
    "def __smpl_size(population, size):\n",
    "        if size is None :\n",
    "            cochran_n = round(((1.96)**2 * 0.5 * 0.5)/ 0.02**2)\n",
    "            n = round(cochran_n/(1+((cochran_n -1) /population)))\n",
    "        elif size >= 0 and size < 1:\n",
    "                n = round(population * size)\n",
    "        elif size < 0:\n",
    "                    raise ValueError('Parameter \"size\" must be an integer or a proportion between 0 and 0.99.')\n",
    "        elif size >= 1:\n",
    "                        n = size\n",
    "        return n\n",
    "\n",
    "def stratified_sample(df, strata, size=None, seed=None, keep_index= False):  \n",
    "    population = len(df)\n",
    "    size = __smpl_size(population, size)\n",
    "    tmp = df[strata]\n",
    "    tmp['size'] = 1\n",
    "    tmp_grpd = tmp.groupby(strata).count().reset_index()\n",
    "    tmp_grpd['samp_size'] = round(size/population * tmp_grpd['size']).astype(int)\n",
    "\n",
    "    # controlling variable to create the dataframe or append to it\n",
    "    first = True \n",
    "    for i in range(len(tmp_grpd)):\n",
    "        # query generator for each iteration\n",
    "        qry=''\n",
    "        for s in range(len(strata)):\n",
    "            stratum = strata[s]\n",
    "            value = tmp_grpd.iloc[i][stratum]\n",
    "            n = tmp_grpd.iloc[i]['samp_size']\n",
    "\n",
    "            if type(value) == str:\n",
    "                value = \"'\" + str(value) + \"'\"\n",
    "            \n",
    "            if s != len(strata)-1:\n",
    "                qry = qry + stratum + ' == ' + str(value) +' & '\n",
    "            else:\n",
    "                qry = qry + stratum + ' == ' + str(value)\n",
    "                \n",
    "        \n",
    "         # final dataframe\n",
    "        if first:\n",
    "            stratified_df = df.query(qry).sample(n=n, random_state=seed).reset_index(drop=(not keep_index))\n",
    "            first = False\n",
    "        else:\n",
    "            tmp_df = df.query(qry).sample(n=n, random_state=seed).reset_index(drop=(not keep_index))\n",
    "            stratified_df = stratified_df.append(tmp_df, ignore_index=True)\n",
    "    \n",
    "    return stratified_df\n"
   ]
  },
  {
   "cell_type": "code",
   "execution_count": 11,
   "id": "96af5e66",
   "metadata": {},
   "outputs": [
    {
     "name": "stderr",
     "output_type": "stream",
     "text": [
      "<ipython-input-10-767bd368ae5f>:18: SettingWithCopyWarning: \n",
      "A value is trying to be set on a copy of a slice from a DataFrame.\n",
      "Try using .loc[row_indexer,col_indexer] = value instead\n",
      "\n",
      "See the caveats in the documentation: https://pandas.pydata.org/pandas-docs/stable/user_guide/indexing.html#returning-a-view-versus-a-copy\n",
      "  tmp['size'] = 1\n"
     ]
    }
   ],
   "source": [
    "df = stratified_sample(df=df, strata=['Label'], size=0.05)"
   ]
  },
  {
   "cell_type": "code",
   "execution_count": 12,
   "id": "c74c4017",
   "metadata": {},
   "outputs": [
    {
     "data": {
      "text/html": [
       "<div>\n",
       "<style scoped>\n",
       "    .dataframe tbody tr th:only-of-type {\n",
       "        vertical-align: middle;\n",
       "    }\n",
       "\n",
       "    .dataframe tbody tr th {\n",
       "        vertical-align: top;\n",
       "    }\n",
       "\n",
       "    .dataframe thead th {\n",
       "        text-align: right;\n",
       "    }\n",
       "</style>\n",
       "<table border=\"1\" class=\"dataframe\">\n",
       "  <thead>\n",
       "    <tr style=\"text-align: right;\">\n",
       "      <th></th>\n",
       "      <th>DestinationPort</th>\n",
       "      <th>FlowDuration</th>\n",
       "      <th>TotalFwdPackets</th>\n",
       "      <th>TotalBackwardPackets</th>\n",
       "      <th>TotalLengthofFwdPackets</th>\n",
       "      <th>TotalLengthofBwdPackets</th>\n",
       "      <th>FwdPacketLengthMax</th>\n",
       "      <th>FwdPacketLengthMin</th>\n",
       "      <th>FwdPacketLengthMean</th>\n",
       "      <th>FwdPacketLengthStd</th>\n",
       "      <th>...</th>\n",
       "      <th>min_seg_size_forward</th>\n",
       "      <th>ActiveMean</th>\n",
       "      <th>ActiveStd</th>\n",
       "      <th>ActiveMax</th>\n",
       "      <th>ActiveMin</th>\n",
       "      <th>IdleMean</th>\n",
       "      <th>IdleStd</th>\n",
       "      <th>IdleMax</th>\n",
       "      <th>IdleMin</th>\n",
       "      <th>Label</th>\n",
       "    </tr>\n",
       "  </thead>\n",
       "  <tbody>\n",
       "    <tr>\n",
       "      <th>0</th>\n",
       "      <td>1.702803</td>\n",
       "      <td>-1.005514</td>\n",
       "      <td>-1.304105</td>\n",
       "      <td>-0.439685</td>\n",
       "      <td>-1.618463</td>\n",
       "      <td>-1.350729</td>\n",
       "      <td>-1.593125</td>\n",
       "      <td>-0.995524</td>\n",
       "      <td>-1.642144</td>\n",
       "      <td>-0.715963</td>\n",
       "      <td>...</td>\n",
       "      <td>0.849335</td>\n",
       "      <td>-0.492877</td>\n",
       "      <td>-0.279942</td>\n",
       "      <td>-0.492642</td>\n",
       "      <td>-0.492926</td>\n",
       "      <td>-0.500941</td>\n",
       "      <td>-0.297011</td>\n",
       "      <td>-0.500941</td>\n",
       "      <td>-0.500941</td>\n",
       "      <td>0</td>\n",
       "    </tr>\n",
       "    <tr>\n",
       "      <th>1</th>\n",
       "      <td>-0.527523</td>\n",
       "      <td>0.415149</td>\n",
       "      <td>0.317806</td>\n",
       "      <td>-1.657288</td>\n",
       "      <td>-1.618463</td>\n",
       "      <td>-1.350729</td>\n",
       "      <td>-1.593125</td>\n",
       "      <td>-0.995524</td>\n",
       "      <td>-1.642144</td>\n",
       "      <td>-0.715963</td>\n",
       "      <td>...</td>\n",
       "      <td>0.849335</td>\n",
       "      <td>-0.492877</td>\n",
       "      <td>-0.279942</td>\n",
       "      <td>-0.492642</td>\n",
       "      <td>-0.492926</td>\n",
       "      <td>-0.500941</td>\n",
       "      <td>-0.297011</td>\n",
       "      <td>-0.500941</td>\n",
       "      <td>-0.500941</td>\n",
       "      <td>0</td>\n",
       "    </tr>\n",
       "    <tr>\n",
       "      <th>2</th>\n",
       "      <td>-0.873506</td>\n",
       "      <td>0.109941</td>\n",
       "      <td>-0.234635</td>\n",
       "      <td>0.121260</td>\n",
       "      <td>0.224049</td>\n",
       "      <td>0.149930</td>\n",
       "      <td>0.145314</td>\n",
       "      <td>1.181979</td>\n",
       "      <td>0.442397</td>\n",
       "      <td>-0.715963</td>\n",
       "      <td>...</td>\n",
       "      <td>2.307547</td>\n",
       "      <td>-0.492877</td>\n",
       "      <td>-0.279942</td>\n",
       "      <td>-0.492642</td>\n",
       "      <td>-0.492926</td>\n",
       "      <td>-0.500941</td>\n",
       "      <td>-0.297011</td>\n",
       "      <td>-0.500941</td>\n",
       "      <td>-0.500941</td>\n",
       "      <td>0</td>\n",
       "    </tr>\n",
       "    <tr>\n",
       "      <th>3</th>\n",
       "      <td>-0.527523</td>\n",
       "      <td>0.196716</td>\n",
       "      <td>0.317806</td>\n",
       "      <td>0.701949</td>\n",
       "      <td>0.961764</td>\n",
       "      <td>0.747261</td>\n",
       "      <td>1.265571</td>\n",
       "      <td>-0.995524</td>\n",
       "      <td>1.342611</td>\n",
       "      <td>1.566371</td>\n",
       "      <td>...</td>\n",
       "      <td>-0.908598</td>\n",
       "      <td>-0.492877</td>\n",
       "      <td>-0.279942</td>\n",
       "      <td>-0.492642</td>\n",
       "      <td>-0.492926</td>\n",
       "      <td>-0.500941</td>\n",
       "      <td>-0.297011</td>\n",
       "      <td>-0.500941</td>\n",
       "      <td>-0.500941</td>\n",
       "      <td>0</td>\n",
       "    </tr>\n",
       "    <tr>\n",
       "      <th>4</th>\n",
       "      <td>-0.527523</td>\n",
       "      <td>1.014435</td>\n",
       "      <td>0.317806</td>\n",
       "      <td>-0.439685</td>\n",
       "      <td>-1.618463</td>\n",
       "      <td>-1.350729</td>\n",
       "      <td>-1.593125</td>\n",
       "      <td>-0.995524</td>\n",
       "      <td>-1.642144</td>\n",
       "      <td>-0.715963</td>\n",
       "      <td>...</td>\n",
       "      <td>0.849335</td>\n",
       "      <td>-0.492877</td>\n",
       "      <td>-0.279942</td>\n",
       "      <td>-0.492642</td>\n",
       "      <td>-0.492926</td>\n",
       "      <td>-0.500941</td>\n",
       "      <td>-0.297011</td>\n",
       "      <td>-0.500941</td>\n",
       "      <td>-0.500941</td>\n",
       "      <td>0</td>\n",
       "    </tr>\n",
       "    <tr>\n",
       "      <th>5</th>\n",
       "      <td>-0.873506</td>\n",
       "      <td>-0.852092</td>\n",
       "      <td>-0.234635</td>\n",
       "      <td>0.121260</td>\n",
       "      <td>0.179065</td>\n",
       "      <td>0.127902</td>\n",
       "      <td>0.096739</td>\n",
       "      <td>1.139936</td>\n",
       "      <td>0.374291</td>\n",
       "      <td>-0.715963</td>\n",
       "      <td>...</td>\n",
       "      <td>2.307547</td>\n",
       "      <td>-0.492877</td>\n",
       "      <td>-0.279942</td>\n",
       "      <td>-0.492642</td>\n",
       "      <td>-0.492926</td>\n",
       "      <td>-0.500941</td>\n",
       "      <td>-0.297011</td>\n",
       "      <td>-0.500941</td>\n",
       "      <td>-0.500941</td>\n",
       "      <td>0</td>\n",
       "    </tr>\n",
       "    <tr>\n",
       "      <th>6</th>\n",
       "      <td>-0.873506</td>\n",
       "      <td>1.291322</td>\n",
       "      <td>-0.234635</td>\n",
       "      <td>0.121260</td>\n",
       "      <td>0.360765</td>\n",
       "      <td>0.283714</td>\n",
       "      <td>0.341307</td>\n",
       "      <td>1.260994</td>\n",
       "      <td>0.653387</td>\n",
       "      <td>0.909971</td>\n",
       "      <td>...</td>\n",
       "      <td>-0.908598</td>\n",
       "      <td>2.075516</td>\n",
       "      <td>-0.279942</td>\n",
       "      <td>2.076086</td>\n",
       "      <td>2.078148</td>\n",
       "      <td>1.997859</td>\n",
       "      <td>-0.297011</td>\n",
       "      <td>1.997637</td>\n",
       "      <td>1.998632</td>\n",
       "      <td>0</td>\n",
       "    </tr>\n",
       "    <tr>\n",
       "      <th>7</th>\n",
       "      <td>-0.873506</td>\n",
       "      <td>0.062468</td>\n",
       "      <td>-0.234635</td>\n",
       "      <td>0.121260</td>\n",
       "      <td>0.115453</td>\n",
       "      <td>0.097815</td>\n",
       "      <td>0.028092</td>\n",
       "      <td>1.079077</td>\n",
       "      <td>0.279103</td>\n",
       "      <td>-0.715963</td>\n",
       "      <td>...</td>\n",
       "      <td>-0.908598</td>\n",
       "      <td>-0.492877</td>\n",
       "      <td>-0.279942</td>\n",
       "      <td>-0.492642</td>\n",
       "      <td>-0.492926</td>\n",
       "      <td>-0.500941</td>\n",
       "      <td>-0.297011</td>\n",
       "      <td>-0.500941</td>\n",
       "      <td>-0.500941</td>\n",
       "      <td>0</td>\n",
       "    </tr>\n",
       "    <tr>\n",
       "      <th>8</th>\n",
       "      <td>1.683059</td>\n",
       "      <td>-1.099979</td>\n",
       "      <td>-1.304105</td>\n",
       "      <td>-0.439685</td>\n",
       "      <td>-1.618463</td>\n",
       "      <td>-1.350729</td>\n",
       "      <td>-1.593125</td>\n",
       "      <td>-0.995524</td>\n",
       "      <td>-1.642144</td>\n",
       "      <td>-0.715963</td>\n",
       "      <td>...</td>\n",
       "      <td>0.849335</td>\n",
       "      <td>-0.492877</td>\n",
       "      <td>-0.279942</td>\n",
       "      <td>-0.492642</td>\n",
       "      <td>-0.492926</td>\n",
       "      <td>-0.500941</td>\n",
       "      <td>-0.297011</td>\n",
       "      <td>-0.500941</td>\n",
       "      <td>-0.500941</td>\n",
       "      <td>0</td>\n",
       "    </tr>\n",
       "    <tr>\n",
       "      <th>9</th>\n",
       "      <td>1.691897</td>\n",
       "      <td>-1.089239</td>\n",
       "      <td>-1.304105</td>\n",
       "      <td>-0.439685</td>\n",
       "      <td>-0.817176</td>\n",
       "      <td>-0.712289</td>\n",
       "      <td>-0.686984</td>\n",
       "      <td>0.331769</td>\n",
       "      <td>-0.642035</td>\n",
       "      <td>-0.715963</td>\n",
       "      <td>...</td>\n",
       "      <td>-0.908598</td>\n",
       "      <td>-0.492877</td>\n",
       "      <td>-0.279942</td>\n",
       "      <td>-0.492642</td>\n",
       "      <td>-0.492926</td>\n",
       "      <td>-0.500941</td>\n",
       "      <td>-0.297011</td>\n",
       "      <td>-0.500941</td>\n",
       "      <td>-0.500941</td>\n",
       "      <td>0</td>\n",
       "    </tr>\n",
       "  </tbody>\n",
       "</table>\n",
       "<p>10 rows × 79 columns</p>\n",
       "</div>"
      ],
      "text/plain": [
       "   DestinationPort  FlowDuration  TotalFwdPackets  TotalBackwardPackets  \\\n",
       "0         1.702803     -1.005514        -1.304105             -0.439685   \n",
       "1        -0.527523      0.415149         0.317806             -1.657288   \n",
       "2        -0.873506      0.109941        -0.234635              0.121260   \n",
       "3        -0.527523      0.196716         0.317806              0.701949   \n",
       "4        -0.527523      1.014435         0.317806             -0.439685   \n",
       "5        -0.873506     -0.852092        -0.234635              0.121260   \n",
       "6        -0.873506      1.291322        -0.234635              0.121260   \n",
       "7        -0.873506      0.062468        -0.234635              0.121260   \n",
       "8         1.683059     -1.099979        -1.304105             -0.439685   \n",
       "9         1.691897     -1.089239        -1.304105             -0.439685   \n",
       "\n",
       "   TotalLengthofFwdPackets  TotalLengthofBwdPackets  FwdPacketLengthMax  \\\n",
       "0                -1.618463                -1.350729           -1.593125   \n",
       "1                -1.618463                -1.350729           -1.593125   \n",
       "2                 0.224049                 0.149930            0.145314   \n",
       "3                 0.961764                 0.747261            1.265571   \n",
       "4                -1.618463                -1.350729           -1.593125   \n",
       "5                 0.179065                 0.127902            0.096739   \n",
       "6                 0.360765                 0.283714            0.341307   \n",
       "7                 0.115453                 0.097815            0.028092   \n",
       "8                -1.618463                -1.350729           -1.593125   \n",
       "9                -0.817176                -0.712289           -0.686984   \n",
       "\n",
       "   FwdPacketLengthMin  FwdPacketLengthMean  FwdPacketLengthStd  ...  \\\n",
       "0           -0.995524            -1.642144           -0.715963  ...   \n",
       "1           -0.995524            -1.642144           -0.715963  ...   \n",
       "2            1.181979             0.442397           -0.715963  ...   \n",
       "3           -0.995524             1.342611            1.566371  ...   \n",
       "4           -0.995524            -1.642144           -0.715963  ...   \n",
       "5            1.139936             0.374291           -0.715963  ...   \n",
       "6            1.260994             0.653387            0.909971  ...   \n",
       "7            1.079077             0.279103           -0.715963  ...   \n",
       "8           -0.995524            -1.642144           -0.715963  ...   \n",
       "9            0.331769            -0.642035           -0.715963  ...   \n",
       "\n",
       "   min_seg_size_forward  ActiveMean  ActiveStd  ActiveMax  ActiveMin  \\\n",
       "0              0.849335   -0.492877  -0.279942  -0.492642  -0.492926   \n",
       "1              0.849335   -0.492877  -0.279942  -0.492642  -0.492926   \n",
       "2              2.307547   -0.492877  -0.279942  -0.492642  -0.492926   \n",
       "3             -0.908598   -0.492877  -0.279942  -0.492642  -0.492926   \n",
       "4              0.849335   -0.492877  -0.279942  -0.492642  -0.492926   \n",
       "5              2.307547   -0.492877  -0.279942  -0.492642  -0.492926   \n",
       "6             -0.908598    2.075516  -0.279942   2.076086   2.078148   \n",
       "7             -0.908598   -0.492877  -0.279942  -0.492642  -0.492926   \n",
       "8              0.849335   -0.492877  -0.279942  -0.492642  -0.492926   \n",
       "9             -0.908598   -0.492877  -0.279942  -0.492642  -0.492926   \n",
       "\n",
       "   IdleMean   IdleStd   IdleMax   IdleMin  Label  \n",
       "0 -0.500941 -0.297011 -0.500941 -0.500941      0  \n",
       "1 -0.500941 -0.297011 -0.500941 -0.500941      0  \n",
       "2 -0.500941 -0.297011 -0.500941 -0.500941      0  \n",
       "3 -0.500941 -0.297011 -0.500941 -0.500941      0  \n",
       "4 -0.500941 -0.297011 -0.500941 -0.500941      0  \n",
       "5 -0.500941 -0.297011 -0.500941 -0.500941      0  \n",
       "6  1.997859 -0.297011  1.997637  1.998632      0  \n",
       "7 -0.500941 -0.297011 -0.500941 -0.500941      0  \n",
       "8 -0.500941 -0.297011 -0.500941 -0.500941      0  \n",
       "9 -0.500941 -0.297011 -0.500941 -0.500941      0  \n",
       "\n",
       "[10 rows x 79 columns]"
      ]
     },
     "execution_count": 12,
     "metadata": {},
     "output_type": "execute_result"
    }
   ],
   "source": [
    "df.head(10)"
   ]
  },
  {
   "cell_type": "code",
   "execution_count": 13,
   "id": "e9e7291e",
   "metadata": {},
   "outputs": [
    {
     "name": "stdout",
     "output_type": "stream",
     "text": [
      "0    113566\n",
      "3     18987\n",
      "4      7940\n",
      "2       692\n",
      "5       109\n",
      "1        98\n",
      "6         2\n",
      "Name: Label, dtype: int64\n",
      "(141394, 79)\n"
     ]
    }
   ],
   "source": [
    "print(df['Label'].value_counts())\n",
    "print(df.shape)"
   ]
  },
  {
   "cell_type": "code",
   "execution_count": 14,
   "id": "ef1cef1f",
   "metadata": {},
   "outputs": [
    {
     "data": {
      "image/png": "[encoded data removed]",
      "text/plain": [
       "<Figure size 360x360 with 1 Axes>"
      ]
     },
     "metadata": {
      "needs_background": "light"
     },
     "output_type": "display_data"
    }
   ],
   "source": [
    "plt.figure(figsize=(5,5))\n",
    "\n",
    "Labels = ('Benign', 'DoS_DDoS', 'Probe', 'Brute_force', 'Web_attack',  'Botnet', 'other')\n",
    "y_pos = np.arange(len(Labels)) \n",
    "amount = df['Label'].value_counts()# [1:]\n",
    "plt.barh(y_pos, amount, align='center', color='#a3c1ad' )\n",
    "plt.yticks(y_pos, Labels)\n",
    "plt.title('Distribution of different types of attacks in the dataset')\n",
    "plt.xlabel('Number of occurences')\n",
    "plt.ylabel('Attack types')\n",
    "for i, v in enumerate(amount):\n",
    "    plt.text(v + 3, i-0.1 , str(v))    \n",
    "plt.show()"
   ]
  },
  {
   "cell_type": "code",
   "execution_count": 15,
   "id": "aa83ed63",
   "metadata": {},
   "outputs": [
    {
     "name": "stdout",
     "output_type": "stream",
     "text": [
      "No. of training examples: 98976\n",
      "No. of testing examples: 42418\n"
     ]
    }
   ],
   "source": [
    "training_data = df.sample(frac=0.7, random_state=25)\n",
    "testing_data = df.drop(training_data.index)\n",
    "\n",
    "print(f\"No. of training examples: {training_data.shape[0]}\")\n",
    "print(f\"No. of testing examples: {testing_data.shape[0]}\") "
   ]
  },
  {
   "cell_type": "code",
   "execution_count": 16,
   "id": "fb54f12f",
   "metadata": {},
   "outputs": [
    {
     "name": "stdout",
     "output_type": "stream",
     "text": [
      "0    79426\n",
      "3    13337\n",
      "4     5581\n",
      "2      489\n",
      "5       73\n",
      "1       70\n",
      "Name: Label, dtype: int64\n"
     ]
    },
    {
     "data": {
      "text/plain": [
       "(98976, 79)"
      ]
     },
     "execution_count": 16,
     "metadata": {},
     "output_type": "execute_result"
    }
   ],
   "source": [
    "print(training_data['Label'].value_counts())\n",
    "training_data.shape"
   ]
  },
  {
   "cell_type": "code",
   "execution_count": 17,
   "id": "1ac17c1d",
   "metadata": {},
   "outputs": [
    {
     "name": "stdout",
     "output_type": "stream",
     "text": [
      "0    34140\n",
      "3     5650\n",
      "4     2359\n",
      "2      203\n",
      "5       36\n",
      "1       28\n",
      "6        2\n",
      "Name: Label, dtype: int64\n"
     ]
    },
    {
     "data": {
      "text/plain": [
       "(42418, 79)"
      ]
     },
     "execution_count": 17,
     "metadata": {},
     "output_type": "execute_result"
    }
   ],
   "source": [
    "print(testing_data['Label'].value_counts())\n",
    "testing_data.shape"
   ]
  },
  {
   "cell_type": "code",
   "execution_count": 18,
   "id": "4c7e462d",
   "metadata": {},
   "outputs": [
    {
     "data": {
      "text/plain": [
       "(148976, 79)"
      ]
     },
     "execution_count": 18,
     "metadata": {},
     "output_type": "execute_result"
    }
   ],
   "source": [
    "training_data_gan = pd.concat([gan_df, training_data])  \n",
    "training_data_gan.shape"
   ]
  },
  {
   "cell_type": "code",
   "execution_count": 19,
   "id": "508a3b72",
   "metadata": {},
   "outputs": [],
   "source": [
    "#Splitting dataset into features and labels.\n",
    "#labels = df['Label']\n",
    "#features = df.loc[:, df.columns != 'Label']\n",
    "\n",
    "labels_train = training_data['Label']\n",
    "features_train = training_data.loc[:, training_data.columns != 'Label']\n",
    "\n",
    "labels_train_gan = training_data_gan['Label']\n",
    "features_train_gan = training_data_gan.loc[:, training_data_gan.columns != 'Label']\n",
    "\n",
    "labels_test = testing_data['Label']\n",
    "features_test = testing_data.loc[:, testing_data.columns != 'Label']"
   ]
  },
  {
   "cell_type": "code",
   "execution_count": 20,
   "id": "6afd8104",
   "metadata": {},
   "outputs": [
    {
     "data": {
      "text/plain": [
       "((98976, 78), (42418, 78), (98976,), (42418,), (148976, 78), (148976,))"
      ]
     },
     "execution_count": 20,
     "metadata": {},
     "output_type": "execute_result"
    }
   ],
   "source": [
    "# The next step is to split training and testing data. For this we will use sklearn function train_test_split().\n",
    "#features_train, features_test, labels_train, labels_test = train_test_split(features, labels, test_size=.3)\n",
    "features_train.shape, features_test.shape, labels_train.shape, labels_test.shape, features_train_gan.shape,labels_train_gan.shape\n"
   ]
  },
  {
   "cell_type": "code",
   "execution_count": 21,
   "id": "c9f53f90",
   "metadata": {},
   "outputs": [],
   "source": [
    "from sklearn.metrics import plot_confusion_matrix\n",
    "from sklearn.tree import DecisionTreeClassifier\n",
    "from sklearn.linear_model import LogisticRegression\n",
    "\n",
    "def print_score(clf, X_train, y_train, X_test, y_test, train=True):\n",
    "    fig, ax = plt.subplots(figsize=(10, 10))\n",
    "    '''\n",
    "    print the accuracy score, classification report and confusion matrix of classifier\n",
    "    '''\n",
    "    if train:\n",
    "        '''\n",
    "        training performance\n",
    "        '''\n",
    "        print(\"Train Result:\\n\")\n",
    "        print(\"accuracy score: {0:.4f}\\n\".format(accuracy_score(y_train, clf.predict(X_train))))\n",
    "        print(\"Classification Report: \\n {}\\n\".format(classification_report(y_train, clf.predict(X_train))))\n",
    "        print(\"Confusion Matrix: \\n {}\\n\".format(confusion_matrix(y_train, clf.predict(X_train))))\n",
    "        plot_confusion_matrix(clf, X_train, y_train,ax=ax) \n",
    "        plt.show() \n",
    "        \n",
    "        \n",
    "        \n",
    "\n",
    "    elif train==False:\n",
    "        '''\n",
    "        test performance\n",
    "        '''\n",
    "        print(\"Test Result:\\n\")        \n",
    "        print(\"accuracy score: {0:.4f}\\n\".format(accuracy_score(y_test, clf.predict(X_test))))\n",
    "        print(\"Classification Report: \\n {}\\n\".format(classification_report(y_test, clf.predict(X_test))))\n",
    "        print(\"Confusion Matrix: \\n {}\\n\".format(confusion_matrix(y_test, clf.predict(X_test))))\n",
    "        plot_confusion_matrix(clf, X_test, y_test,ax=ax) \n",
    "        plt.show()"
   ]
  },
  {
   "cell_type": "code",
   "execution_count": 22,
   "id": "0889d50c",
   "metadata": {},
   "outputs": [
    {
     "name": "stderr",
     "output_type": "stream",
     "text": [
      "/Users/Ebtehaj/opt/anaconda3/lib/python3.8/site-packages/sklearn/linear_model/_logistic.py:763: ConvergenceWarning: lbfgs failed to converge (status=1):\n",
      "STOP: TOTAL NO. of ITERATIONS REACHED LIMIT.\n",
      "\n",
      "Increase the number of iterations (max_iter) or scale the data as shown in:\n",
      "    https://scikit-learn.org/stable/modules/preprocessing.html\n",
      "Please also refer to the documentation for alternative solver options:\n",
      "    https://scikit-learn.org/stable/modules/linear_model.html#logistic-regression\n",
      "  n_iter_i = _check_optimize_result(\n"
     ]
    },
    {
     "data": {
      "text/plain": [
       "LogisticRegression(random_state=42)"
      ]
     },
     "execution_count": 22,
     "metadata": {},
     "output_type": "execute_result"
    }
   ],
   "source": [
    "clf = LogisticRegression(random_state=42)\n",
    "clf.fit(features_train, labels_train)"
   ]
  },
  {
   "cell_type": "code",
   "execution_count": 23,
   "id": "36b59ab5",
   "metadata": {},
   "outputs": [
    {
     "name": "stdout",
     "output_type": "stream",
     "text": [
      "Train Result:\n",
      "\n",
      "accuracy score: 0.9891\n",
      "\n",
      "Classification Report: \n",
      "               precision    recall  f1-score   support\n",
      "\n",
      "           0       1.00      0.99      0.99     79426\n",
      "           1       1.00      0.39      0.56        70\n",
      "           2       0.84      1.00      0.91       489\n",
      "           3       0.96      0.98      0.97     13337\n",
      "           4       0.99      1.00      1.00      5581\n",
      "           5       0.00      0.00      0.00        73\n",
      "\n",
      "    accuracy                           0.99     98976\n",
      "   macro avg       0.80      0.73      0.74     98976\n",
      "weighted avg       0.99      0.99      0.99     98976\n",
      "\n",
      "\n"
     ]
    },
    {
     "name": "stderr",
     "output_type": "stream",
     "text": [
      "/Users/Ebtehaj/opt/anaconda3/lib/python3.8/site-packages/sklearn/metrics/_classification.py:1248: UndefinedMetricWarning: Precision and F-score are ill-defined and being set to 0.0 in labels with no predicted samples. Use `zero_division` parameter to control this behavior.\n",
      "  _warn_prf(average, modifier, msg_start, len(result))\n",
      "/Users/Ebtehaj/opt/anaconda3/lib/python3.8/site-packages/sklearn/metrics/_classification.py:1248: UndefinedMetricWarning: Precision and F-score are ill-defined and being set to 0.0 in labels with no predicted samples. Use `zero_division` parameter to control this behavior.\n",
      "  _warn_prf(average, modifier, msg_start, len(result))\n",
      "/Users/Ebtehaj/opt/anaconda3/lib/python3.8/site-packages/sklearn/metrics/_classification.py:1248: UndefinedMetricWarning: Precision and F-score are ill-defined and being set to 0.0 in labels with no predicted samples. Use `zero_division` parameter to control this behavior.\n",
      "  _warn_prf(average, modifier, msg_start, len(result))\n"
     ]
    },
    {
     "name": "stdout",
     "output_type": "stream",
     "text": [
      "Confusion Matrix: \n",
      " [[78731     0    93   562    40     0]\n",
      " [   43    27     0     0     0     0]\n",
      " [    0     0   489     0     0     0]\n",
      " [  256     0     0 13081     0     0]\n",
      " [    5     0     0     5  5571     0]\n",
      " [   71     0     0     2     0     0]]\n",
      "\n"
     ]
    },
    {
     "data": {
      "image/png": "[encoded data removed]",
      "text/plain": [
       "<Figure size 720x720 with 2 Axes>"
      ]
     },
     "metadata": {
      "needs_background": "light"
     },
     "output_type": "display_data"
    }
   ],
   "source": [
    "print_score(clf, features_train,labels_train, features_test, labels_test, train=True)\n",
    "#training result"
   ]
  },
  {
   "cell_type": "code",
   "execution_count": 24,
   "id": "d0f7db00",
   "metadata": {},
   "outputs": [
    {
     "name": "stdout",
     "output_type": "stream",
     "text": [
      "Test Result:\n",
      "\n",
      "accuracy score: 0.9882\n",
      "\n",
      "Classification Report: \n",
      "               precision    recall  f1-score   support\n",
      "\n",
      "           0       0.99      0.99      0.99     34140\n",
      "           1       0.80      0.29      0.42        28\n",
      "           2       0.85      0.99      0.92       203\n",
      "           3       0.95      0.98      0.97      5650\n",
      "           4       0.99      1.00      0.99      2359\n",
      "           5       0.00      0.00      0.00        36\n",
      "           6       0.00      0.00      0.00         2\n",
      "\n",
      "    accuracy                           0.99     42418\n",
      "   macro avg       0.66      0.61      0.61     42418\n",
      "weighted avg       0.99      0.99      0.99     42418\n",
      "\n",
      "\n",
      "Confusion Matrix: \n",
      " [[33821     2    32   268    17     0     0]\n",
      " [   20     8     0     0     0     0     0]\n",
      " [    2     0   200     1     0     0     0]\n",
      " [  115     0     0  5534     1     0     0]\n",
      " [    1     0     2     3  2353     0     0]\n",
      " [   36     0     0     0     0     0     0]\n",
      " [    2     0     0     0     0     0     0]]\n",
      "\n"
     ]
    },
    {
     "name": "stderr",
     "output_type": "stream",
     "text": [
      "/Users/Ebtehaj/opt/anaconda3/lib/python3.8/site-packages/sklearn/metrics/_classification.py:1248: UndefinedMetricWarning: Precision and F-score are ill-defined and being set to 0.0 in labels with no predicted samples. Use `zero_division` parameter to control this behavior.\n",
      "  _warn_prf(average, modifier, msg_start, len(result))\n",
      "/Users/Ebtehaj/opt/anaconda3/lib/python3.8/site-packages/sklearn/metrics/_classification.py:1248: UndefinedMetricWarning: Precision and F-score are ill-defined and being set to 0.0 in labels with no predicted samples. Use `zero_division` parameter to control this behavior.\n",
      "  _warn_prf(average, modifier, msg_start, len(result))\n",
      "/Users/Ebtehaj/opt/anaconda3/lib/python3.8/site-packages/sklearn/metrics/_classification.py:1248: UndefinedMetricWarning: Precision and F-score are ill-defined and being set to 0.0 in labels with no predicted samples. Use `zero_division` parameter to control this behavior.\n",
      "  _warn_prf(average, modifier, msg_start, len(result))\n"
     ]
    },
    {
     "data": {
      "image/png": "[encoded data removed]",
      "text/plain": [
       "<Figure size 720x720 with 2 Axes>"
      ]
     },
     "metadata": {
      "needs_background": "light"
     },
     "output_type": "display_data"
    }
   ],
   "source": [
    "print_score(clf, features_train,labels_train, features_test, labels_test, train=False)\n",
    "#testing result"
   ]
  },
  {
   "cell_type": "code",
   "execution_count": 25,
   "id": "a53a2fc5",
   "metadata": {},
   "outputs": [
    {
     "name": "stderr",
     "output_type": "stream",
     "text": [
      "/Users/Ebtehaj/opt/anaconda3/lib/python3.8/site-packages/sklearn/linear_model/_logistic.py:763: ConvergenceWarning: lbfgs failed to converge (status=1):\n",
      "STOP: TOTAL NO. of ITERATIONS REACHED LIMIT.\n",
      "\n",
      "Increase the number of iterations (max_iter) or scale the data as shown in:\n",
      "    https://scikit-learn.org/stable/modules/preprocessing.html\n",
      "Please also refer to the documentation for alternative solver options:\n",
      "    https://scikit-learn.org/stable/modules/linear_model.html#logistic-regression\n",
      "  n_iter_i = _check_optimize_result(\n"
     ]
    },
    {
     "data": {
      "text/plain": [
       "LogisticRegression(random_state=42)"
      ]
     },
     "execution_count": 25,
     "metadata": {},
     "output_type": "execute_result"
    }
   ],
   "source": [
    "clf2 = LogisticRegression(random_state=42)\n",
    "clf2.fit(features_train_gan, labels_train_gan)"
   ]
  },
  {
   "cell_type": "code",
   "execution_count": 26,
   "id": "556b6b5b",
   "metadata": {},
   "outputs": [
    {
     "name": "stdout",
     "output_type": "stream",
     "text": [
      "Train Result:\n",
      "\n",
      "accuracy score: 0.9586\n",
      "\n",
      "Classification Report: \n",
      "               precision    recall  f1-score   support\n",
      "\n",
      "           0       0.99      0.99      0.99     79426\n",
      "           1       0.86      0.17      0.29        70\n",
      "           2       0.92      0.87      0.90     21960\n",
      "           3       0.91      0.96      0.93     41304\n",
      "           4       0.97      0.92      0.95      6127\n",
      "           5       0.00      0.00      0.00        88\n",
      "           6       0.00      0.00      0.00         1\n",
      "\n",
      "    accuracy                           0.96    148976\n",
      "   macro avg       0.67      0.56      0.58    148976\n",
      "weighted avg       0.96      0.96      0.96    148976\n",
      "\n",
      "\n",
      "Confusion Matrix: \n",
      " [[78386     2   292   650    94     1     1]\n",
      " [   58    12     0     0     0     0     0]\n",
      " [   99     0 19190  2671     0     0     0]\n",
      " [  330     0  1348 39587    39     0     0]\n",
      " [   14     0     8   468  5637     0     0]\n",
      " [   72     0     0     5    11     0     0]\n",
      " [    0     0     0     0     1     0     0]]\n",
      "\n"
     ]
    },
    {
     "data": {
      "image/png": "[encoded data removed]",
      "text/plain": [
       "<Figure size 720x720 with 2 Axes>"
      ]
     },
     "metadata": {
      "needs_background": "light"
     },
     "output_type": "display_data"
    }
   ],
   "source": [
    "print_score(clf2, features_train_gan,labels_train_gan, features_test, labels_test, train=True)\n",
    "#training result"
   ]
  },
  {
   "cell_type": "code",
   "execution_count": 27,
   "id": "0a1f053f",
   "metadata": {},
   "outputs": [
    {
     "name": "stdout",
     "output_type": "stream",
     "text": [
      "Test Result:\n",
      "\n",
      "accuracy score: 0.9800\n",
      "\n",
      "Classification Report: \n",
      "               precision    recall  f1-score   support\n",
      "\n",
      "           0       0.99      0.99      0.99     34140\n",
      "           1       0.60      0.11      0.18        28\n",
      "           2       0.35      0.55      0.42       203\n",
      "           3       0.94      0.96      0.95      5650\n",
      "           4       0.98      0.99      0.99      2359\n",
      "           5       0.00      0.00      0.00        36\n",
      "           6       0.00      0.00      0.00         2\n",
      "\n",
      "    accuracy                           0.98     42418\n",
      "   macro avg       0.55      0.51      0.50     42418\n",
      "weighted avg       0.98      0.98      0.98     42418\n",
      "\n",
      "\n",
      "Confusion Matrix: \n",
      " [[33667     2   131   290    48     2     0]\n",
      " [   25     3     0     0     0     0     0]\n",
      " [   43     0   111    49     0     0     0]\n",
      " [  130     0    75  5444     1     0     0]\n",
      " [    6     0     4     4  2345     0     0]\n",
      " [   36     0     0     0     0     0     0]\n",
      " [    2     0     0     0     0     0     0]]\n",
      "\n"
     ]
    },
    {
     "name": "stderr",
     "output_type": "stream",
     "text": [
      "/Users/Ebtehaj/opt/anaconda3/lib/python3.8/site-packages/sklearn/metrics/_classification.py:1248: UndefinedMetricWarning: Precision and F-score are ill-defined and being set to 0.0 in labels with no predicted samples. Use `zero_division` parameter to control this behavior.\n",
      "  _warn_prf(average, modifier, msg_start, len(result))\n",
      "/Users/Ebtehaj/opt/anaconda3/lib/python3.8/site-packages/sklearn/metrics/_classification.py:1248: UndefinedMetricWarning: Precision and F-score are ill-defined and being set to 0.0 in labels with no predicted samples. Use `zero_division` parameter to control this behavior.\n",
      "  _warn_prf(average, modifier, msg_start, len(result))\n",
      "/Users/Ebtehaj/opt/anaconda3/lib/python3.8/site-packages/sklearn/metrics/_classification.py:1248: UndefinedMetricWarning: Precision and F-score are ill-defined and being set to 0.0 in labels with no predicted samples. Use `zero_division` parameter to control this behavior.\n",
      "  _warn_prf(average, modifier, msg_start, len(result))\n"
     ]
    },
    {
     "data": {
      "image/png": "[encoded data removed]",
      "text/plain": [
       "<Figure size 720x720 with 2 Axes>"
      ]
     },
     "metadata": {
      "needs_background": "light"
     },
     "output_type": "display_data"
    }
   ],
   "source": [
    "print_score(clf2, features_train_gan,labels_train_gan, features_test, labels_test, train=False)\n",
    "#testing result"
   ]
  },
  {
   "cell_type": "code",
   "execution_count": 29,
   "id": "62de0f8e",
   "metadata": {},
   "outputs": [
    {
     "data": {
      "text/plain": [
       "DecisionTreeClassifier(max_depth=5, random_state=0)"
      ]
     },
     "execution_count": 29,
     "metadata": {},
     "output_type": "execute_result"
    }
   ],
   "source": [
    "clf3 = DecisionTreeClassifier(random_state=0, max_depth=5) #42\n",
    "clf3.fit(features_train, labels_train)"
   ]
  },
  {
   "cell_type": "code",
   "execution_count": 30,
   "id": "f734a687",
   "metadata": {},
   "outputs": [
    {
     "name": "stdout",
     "output_type": "stream",
     "text": [
      "Train Result:\n",
      "\n",
      "accuracy score: 0.9808\n",
      "\n"
     ]
    },
    {
     "name": "stderr",
     "output_type": "stream",
     "text": [
      "/Users/Ebtehaj/opt/anaconda3/lib/python3.8/site-packages/sklearn/metrics/_classification.py:1248: UndefinedMetricWarning: Precision and F-score are ill-defined and being set to 0.0 in labels with no predicted samples. Use `zero_division` parameter to control this behavior.\n",
      "  _warn_prf(average, modifier, msg_start, len(result))\n",
      "/Users/Ebtehaj/opt/anaconda3/lib/python3.8/site-packages/sklearn/metrics/_classification.py:1248: UndefinedMetricWarning: Precision and F-score are ill-defined and being set to 0.0 in labels with no predicted samples. Use `zero_division` parameter to control this behavior.\n",
      "  _warn_prf(average, modifier, msg_start, len(result))\n",
      "/Users/Ebtehaj/opt/anaconda3/lib/python3.8/site-packages/sklearn/metrics/_classification.py:1248: UndefinedMetricWarning: Precision and F-score are ill-defined and being set to 0.0 in labels with no predicted samples. Use `zero_division` parameter to control this behavior.\n",
      "  _warn_prf(average, modifier, msg_start, len(result))\n"
     ]
    },
    {
     "name": "stdout",
     "output_type": "stream",
     "text": [
      "Classification Report: \n",
      "               precision    recall  f1-score   support\n",
      "\n",
      "           0       0.99      0.98      0.99     79426\n",
      "           1       0.00      0.00      0.00        70\n",
      "           2       0.97      0.58      0.73       489\n",
      "           3       0.92      0.98      0.95     13337\n",
      "           4       0.99      0.99      0.99      5581\n",
      "           5       0.00      0.00      0.00        73\n",
      "\n",
      "    accuracy                           0.98     98976\n",
      "   macro avg       0.65      0.59      0.61     98976\n",
      "weighted avg       0.98      0.98      0.98     98976\n",
      "\n",
      "\n",
      "Confusion Matrix: \n",
      " [[78205     0     8  1162    51     0]\n",
      " [   70     0     0     0     0     0]\n",
      " [  200     0   286     3     0     0]\n",
      " [  296     0     0 13041     0     0]\n",
      " [   30     0     0     4  5547     0]\n",
      " [   73     0     0     0     0     0]]\n",
      "\n"
     ]
    },
    {
     "data": {
      "image/png": "[encoded data removed]",
      "text/plain": [
       "<Figure size 720x720 with 2 Axes>"
      ]
     },
     "metadata": {
      "needs_background": "light"
     },
     "output_type": "display_data"
    }
   ],
   "source": [
    "print_score(clf3, features_train,labels_train, features_test, labels_test, train=True)\n",
    "#training result"
   ]
  },
  {
   "cell_type": "code",
   "execution_count": 31,
   "id": "012f20d3",
   "metadata": {},
   "outputs": [
    {
     "name": "stdout",
     "output_type": "stream",
     "text": [
      "Test Result:\n",
      "\n",
      "accuracy score: 0.9812\n",
      "\n",
      "Classification Report: \n",
      "               precision    recall  f1-score   support\n",
      "\n",
      "           0       0.99      0.99      0.99     34140\n",
      "           1       0.00      0.00      0.00        28\n",
      "           2       0.98      0.56      0.71       203\n",
      "           3       0.92      0.98      0.95      5650\n",
      "           4       0.99      0.99      0.99      2359\n",
      "           5       0.00      0.00      0.00        36\n",
      "           6       0.00      0.00      0.00         2\n",
      "\n",
      "    accuracy                           0.98     42418\n",
      "   macro avg       0.55      0.50      0.52     42418\n",
      "weighted avg       0.98      0.98      0.98     42418\n",
      "\n",
      "\n",
      "Confusion Matrix: \n",
      " [[33640     0     2   471    27     0     0]\n",
      " [   28     0     0     0     0     0     0]\n",
      " [   89     0   113     1     0     0     0]\n",
      " [  122     0     0  5528     0     0     0]\n",
      " [   19     0     0     0  2340     0     0]\n",
      " [   36     0     0     0     0     0     0]\n",
      " [    2     0     0     0     0     0     0]]\n",
      "\n"
     ]
    },
    {
     "name": "stderr",
     "output_type": "stream",
     "text": [
      "/Users/Ebtehaj/opt/anaconda3/lib/python3.8/site-packages/sklearn/metrics/_classification.py:1248: UndefinedMetricWarning: Precision and F-score are ill-defined and being set to 0.0 in labels with no predicted samples. Use `zero_division` parameter to control this behavior.\n",
      "  _warn_prf(average, modifier, msg_start, len(result))\n",
      "/Users/Ebtehaj/opt/anaconda3/lib/python3.8/site-packages/sklearn/metrics/_classification.py:1248: UndefinedMetricWarning: Precision and F-score are ill-defined and being set to 0.0 in labels with no predicted samples. Use `zero_division` parameter to control this behavior.\n",
      "  _warn_prf(average, modifier, msg_start, len(result))\n",
      "/Users/Ebtehaj/opt/anaconda3/lib/python3.8/site-packages/sklearn/metrics/_classification.py:1248: UndefinedMetricWarning: Precision and F-score are ill-defined and being set to 0.0 in labels with no predicted samples. Use `zero_division` parameter to control this behavior.\n",
      "  _warn_prf(average, modifier, msg_start, len(result))\n"
     ]
    },
    {
     "data": {
      "image/png": "[encoded data removed]",
      "text/plain": [
       "<Figure size 720x720 with 2 Axes>"
      ]
     },
     "metadata": {
      "needs_background": "light"
     },
     "output_type": "display_data"
    }
   ],
   "source": [
    "print_score(clf3, features_train,labels_train, features_test, labels_test, train=False)\n",
    "#testing result"
   ]
  },
  {
   "cell_type": "code",
   "execution_count": 32,
   "id": "c582411a",
   "metadata": {},
   "outputs": [
    {
     "data": {
      "text/plain": [
       "DecisionTreeClassifier(max_depth=5, random_state=0)"
      ]
     },
     "execution_count": 32,
     "metadata": {},
     "output_type": "execute_result"
    }
   ],
   "source": [
    "clf4 = DecisionTreeClassifier(random_state=0, max_depth=5)\n",
    "clf4.fit(features_train_gan, labels_train_gan)"
   ]
  },
  {
   "cell_type": "code",
   "execution_count": 33,
   "id": "a306e548",
   "metadata": {},
   "outputs": [
    {
     "name": "stdout",
     "output_type": "stream",
     "text": [
      "Train Result:\n",
      "\n",
      "accuracy score: 0.9769\n",
      "\n"
     ]
    },
    {
     "name": "stderr",
     "output_type": "stream",
     "text": [
      "/Users/Ebtehaj/opt/anaconda3/lib/python3.8/site-packages/sklearn/metrics/_classification.py:1248: UndefinedMetricWarning: Precision and F-score are ill-defined and being set to 0.0 in labels with no predicted samples. Use `zero_division` parameter to control this behavior.\n",
      "  _warn_prf(average, modifier, msg_start, len(result))\n",
      "/Users/Ebtehaj/opt/anaconda3/lib/python3.8/site-packages/sklearn/metrics/_classification.py:1248: UndefinedMetricWarning: Precision and F-score are ill-defined and being set to 0.0 in labels with no predicted samples. Use `zero_division` parameter to control this behavior.\n",
      "  _warn_prf(average, modifier, msg_start, len(result))\n",
      "/Users/Ebtehaj/opt/anaconda3/lib/python3.8/site-packages/sklearn/metrics/_classification.py:1248: UndefinedMetricWarning: Precision and F-score are ill-defined and being set to 0.0 in labels with no predicted samples. Use `zero_division` parameter to control this behavior.\n",
      "  _warn_prf(average, modifier, msg_start, len(result))\n"
     ]
    },
    {
     "name": "stdout",
     "output_type": "stream",
     "text": [
      "Classification Report: \n",
      "               precision    recall  f1-score   support\n",
      "\n",
      "           0       0.99      0.98      0.99     79426\n",
      "           1       0.00      0.00      0.00        70\n",
      "           2       0.97      0.96      0.97     21960\n",
      "           3       0.95      0.98      0.96     41304\n",
      "           4       0.99      0.99      0.99      6127\n",
      "           5       0.94      0.17      0.29        88\n",
      "           6       0.00      0.00      0.00         1\n",
      "\n",
      "    accuracy                           0.98    148976\n",
      "   macro avg       0.69      0.58      0.60    148976\n",
      "weighted avg       0.98      0.98      0.98    148976\n",
      "\n",
      "\n",
      "Confusion Matrix: \n",
      " [[77951     0    12  1412    51     0     0]\n",
      " [   70     0     0     0     0     0     0]\n",
      " [  200     0 21100   660     0     0     0]\n",
      " [  294     0   574 40419    17     0     0]\n",
      " [   30     0     0    51  6046     0     0]\n",
      " [   73     0     0     0     0    15     0]\n",
      " [    0     0     0     0     0     1     0]]\n",
      "\n"
     ]
    },
    {
     "data": {
      "image/png": "[encoded data removed]",
      "text/plain": [
       "<Figure size 720x720 with 2 Axes>"
      ]
     },
     "metadata": {
      "needs_background": "light"
     },
     "output_type": "display_data"
    }
   ],
   "source": [
    "print_score(clf4, features_train_gan,labels_train_gan, features_test, labels_test, train=True)\n",
    "#training result"
   ]
  },
  {
   "cell_type": "code",
   "execution_count": 34,
   "id": "a54a1c72",
   "metadata": {},
   "outputs": [
    {
     "name": "stdout",
     "output_type": "stream",
     "text": [
      "Test Result:\n",
      "\n",
      "accuracy score: 0.9788\n",
      "\n",
      "Classification Report: \n",
      "               precision    recall  f1-score   support\n",
      "\n",
      "           0       0.99      0.98      0.99     34140\n",
      "           1       0.00      0.00      0.00        28\n",
      "           2       0.96      0.56      0.70       203\n",
      "           3       0.91      0.98      0.94      5650\n",
      "           4       0.99      0.99      0.99      2359\n",
      "           5       0.00      0.00      0.00        36\n",
      "           6       0.00      0.00      0.00         2\n",
      "\n",
      "    accuracy                           0.98     42418\n",
      "   macro avg       0.55      0.50      0.52     42418\n",
      "weighted avg       0.98      0.98      0.98     42418\n",
      "\n",
      "\n",
      "Confusion Matrix: \n",
      " [[33540     0     5   568    27     0     0]\n",
      " [   28     0     0     0     0     0     0]\n",
      " [   89     0   113     1     0     0     0]\n",
      " [  122     0     0  5528     0     0     0]\n",
      " [   19     0     0     1  2339     0     0]\n",
      " [   36     0     0     0     0     0     0]\n",
      " [    1     0     0     1     0     0     0]]\n",
      "\n"
     ]
    },
    {
     "name": "stderr",
     "output_type": "stream",
     "text": [
      "/Users/Ebtehaj/opt/anaconda3/lib/python3.8/site-packages/sklearn/metrics/_classification.py:1248: UndefinedMetricWarning: Precision and F-score are ill-defined and being set to 0.0 in labels with no predicted samples. Use `zero_division` parameter to control this behavior.\n",
      "  _warn_prf(average, modifier, msg_start, len(result))\n",
      "/Users/Ebtehaj/opt/anaconda3/lib/python3.8/site-packages/sklearn/metrics/_classification.py:1248: UndefinedMetricWarning: Precision and F-score are ill-defined and being set to 0.0 in labels with no predicted samples. Use `zero_division` parameter to control this behavior.\n",
      "  _warn_prf(average, modifier, msg_start, len(result))\n",
      "/Users/Ebtehaj/opt/anaconda3/lib/python3.8/site-packages/sklearn/metrics/_classification.py:1248: UndefinedMetricWarning: Precision and F-score are ill-defined and being set to 0.0 in labels with no predicted samples. Use `zero_division` parameter to control this behavior.\n",
      "  _warn_prf(average, modifier, msg_start, len(result))\n"
     ]
    },
    {
     "data": {
      "image/png": "[encoded data removed]",
      "text/plain": [
       "<Figure size 720x720 with 2 Axes>"
      ]
     },
     "metadata": {
      "needs_background": "light"
     },
     "output_type": "display_data"
    }
   ],
   "source": [
    "print_score(clf4, features_train_gan,labels_train_gan, features_test, labels_test, train=False)\n",
    "#testing result"
   ]
  },
  {
   "cell_type": "code",
   "execution_count": null,
   "id": "eb186045",
   "metadata": {},
   "outputs": [],
   "source": []
  }
 ],
 "metadata": {
  "kernelspec": {
   "display_name": "Python 3",
   "language": "python",
   "name": "python3"
  },
  "language_info": {
   "codemirror_mode": {
    "name": "ipython",
    "version": 3
   },
   "file_extension": ".py",
   "mimetype": "text/x-python",
   "name": "python",
   "nbconvert_exporter": "python",
   "pygments_lexer": "ipython3",
   "version": "3.8.11"
  }
 },
 "nbformat": 4,
 "nbformat_minor": 5
}
