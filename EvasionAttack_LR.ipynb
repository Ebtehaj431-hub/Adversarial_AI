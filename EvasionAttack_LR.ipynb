{
 "cells": [
  {
   "cell_type": "code",
   "execution_count": 1,
   "id": "e604ede8",
   "metadata": {},
   "outputs": [],
   "source": [
    "import numpy as np # linear algebra\n",
    "import matplotlib.pyplot as plt\n",
    "import pandas as pd # data processing, CSV file I/O\n",
    "from sklearn.ensemble import RandomForestClassifier\n",
    "from sklearn.model_selection import train_test_split\n",
    "from sklearn.model_selection import cross_val_score, cross_val_predict\n",
    "from sklearn.metrics import accuracy_score, classification_report, confusion_matrix"
   ]
  },
  {
   "cell_type": "code",
   "execution_count": 2,
   "id": "313cbc5d",
   "metadata": {},
   "outputs": [],
   "source": [
    "df = pd.read_csv(\"Normalized.csv\")"
   ]
  },
  {
   "cell_type": "code",
   "execution_count": 3,
   "id": "9989b762",
   "metadata": {},
   "outputs": [
    {
     "data": {
      "text/html": [
       "<div>\n",
       "<style scoped>\n",
       "    .dataframe tbody tr th:only-of-type {\n",
       "        vertical-align: middle;\n",
       "    }\n",
       "\n",
       "    .dataframe tbody tr th {\n",
       "        vertical-align: top;\n",
       "    }\n",
       "\n",
       "    .dataframe thead th {\n",
       "        text-align: right;\n",
       "    }\n",
       "</style>\n",
       "<table border=\"1\" class=\"dataframe\">\n",
       "  <thead>\n",
       "    <tr style=\"text-align: right;\">\n",
       "      <th></th>\n",
       "      <th>DestinationPort</th>\n",
       "      <th>FlowDuration</th>\n",
       "      <th>TotalFwdPackets</th>\n",
       "      <th>TotalBackwardPackets</th>\n",
       "      <th>TotalLengthofFwdPackets</th>\n",
       "      <th>TotalLengthofBwdPackets</th>\n",
       "      <th>FwdPacketLengthMax</th>\n",
       "      <th>FwdPacketLengthMin</th>\n",
       "      <th>FwdPacketLengthMean</th>\n",
       "      <th>FwdPacketLengthStd</th>\n",
       "      <th>...</th>\n",
       "      <th>min_seg_size_forward</th>\n",
       "      <th>ActiveMean</th>\n",
       "      <th>ActiveStd</th>\n",
       "      <th>ActiveMax</th>\n",
       "      <th>ActiveMin</th>\n",
       "      <th>IdleMean</th>\n",
       "      <th>IdleStd</th>\n",
       "      <th>IdleMax</th>\n",
       "      <th>IdleMin</th>\n",
       "      <th>Label</th>\n",
       "    </tr>\n",
       "  </thead>\n",
       "  <tbody>\n",
       "    <tr>\n",
       "      <th>0</th>\n",
       "      <td>1.695998</td>\n",
       "      <td>-1.626221</td>\n",
       "      <td>-0.234635</td>\n",
       "      <td>-1.657288</td>\n",
       "      <td>-0.557447</td>\n",
       "      <td>-1.350729</td>\n",
       "      <td>-0.686984</td>\n",
       "      <td>0.331769</td>\n",
       "      <td>-0.642035</td>\n",
       "      <td>-0.715963</td>\n",
       "      <td>...</td>\n",
       "      <td>-0.908598</td>\n",
       "      <td>-0.492877</td>\n",
       "      <td>-0.279942</td>\n",
       "      <td>-0.492642</td>\n",
       "      <td>-0.492926</td>\n",
       "      <td>-0.500941</td>\n",
       "      <td>-0.297011</td>\n",
       "      <td>-0.500941</td>\n",
       "      <td>-0.500941</td>\n",
       "      <td>0</td>\n",
       "    </tr>\n",
       "    <tr>\n",
       "      <th>1</th>\n",
       "      <td>1.696355</td>\n",
       "      <td>-0.959273</td>\n",
       "      <td>-1.304105</td>\n",
       "      <td>-0.439685</td>\n",
       "      <td>-0.817176</td>\n",
       "      <td>-0.712289</td>\n",
       "      <td>-0.686984</td>\n",
       "      <td>0.331769</td>\n",
       "      <td>-0.642035</td>\n",
       "      <td>-0.715963</td>\n",
       "      <td>...</td>\n",
       "      <td>-0.908598</td>\n",
       "      <td>-0.492877</td>\n",
       "      <td>-0.279942</td>\n",
       "      <td>-0.492642</td>\n",
       "      <td>-0.492926</td>\n",
       "      <td>-0.500941</td>\n",
       "      <td>-0.297011</td>\n",
       "      <td>-0.500941</td>\n",
       "      <td>-0.500941</td>\n",
       "      <td>0</td>\n",
       "    </tr>\n",
       "    <tr>\n",
       "      <th>2</th>\n",
       "      <td>1.696357</td>\n",
       "      <td>-1.103693</td>\n",
       "      <td>-1.304105</td>\n",
       "      <td>-0.439685</td>\n",
       "      <td>-0.817176</td>\n",
       "      <td>-0.712289</td>\n",
       "      <td>-0.686984</td>\n",
       "      <td>0.331769</td>\n",
       "      <td>-0.642035</td>\n",
       "      <td>-0.715963</td>\n",
       "      <td>...</td>\n",
       "      <td>-0.908598</td>\n",
       "      <td>-0.492877</td>\n",
       "      <td>-0.279942</td>\n",
       "      <td>-0.492642</td>\n",
       "      <td>-0.492926</td>\n",
       "      <td>-0.500941</td>\n",
       "      <td>-0.297011</td>\n",
       "      <td>-0.500941</td>\n",
       "      <td>-0.500941</td>\n",
       "      <td>0</td>\n",
       "    </tr>\n",
       "    <tr>\n",
       "      <th>3</th>\n",
       "      <td>1.677730</td>\n",
       "      <td>-1.186392</td>\n",
       "      <td>-1.304105</td>\n",
       "      <td>-0.439685</td>\n",
       "      <td>-0.817176</td>\n",
       "      <td>-0.712289</td>\n",
       "      <td>-0.686984</td>\n",
       "      <td>0.331769</td>\n",
       "      <td>-0.642035</td>\n",
       "      <td>-0.715963</td>\n",
       "      <td>...</td>\n",
       "      <td>-0.908598</td>\n",
       "      <td>-0.492877</td>\n",
       "      <td>-0.279942</td>\n",
       "      <td>-0.492642</td>\n",
       "      <td>-0.492926</td>\n",
       "      <td>-0.500941</td>\n",
       "      <td>-0.297011</td>\n",
       "      <td>-0.500941</td>\n",
       "      <td>-0.500941</td>\n",
       "      <td>0</td>\n",
       "    </tr>\n",
       "    <tr>\n",
       "      <th>4</th>\n",
       "      <td>1.695994</td>\n",
       "      <td>-1.626221</td>\n",
       "      <td>-0.234635</td>\n",
       "      <td>-1.657288</td>\n",
       "      <td>-0.557447</td>\n",
       "      <td>-1.350729</td>\n",
       "      <td>-0.686984</td>\n",
       "      <td>0.331769</td>\n",
       "      <td>-0.642035</td>\n",
       "      <td>-0.715963</td>\n",
       "      <td>...</td>\n",
       "      <td>-0.908598</td>\n",
       "      <td>-0.492877</td>\n",
       "      <td>-0.279942</td>\n",
       "      <td>-0.492642</td>\n",
       "      <td>-0.492926</td>\n",
       "      <td>-0.500941</td>\n",
       "      <td>-0.297011</td>\n",
       "      <td>-0.500941</td>\n",
       "      <td>-0.500941</td>\n",
       "      <td>0</td>\n",
       "    </tr>\n",
       "  </tbody>\n",
       "</table>\n",
       "<p>5 rows × 79 columns</p>\n",
       "</div>"
      ],
      "text/plain": [
       "   DestinationPort  FlowDuration  TotalFwdPackets  TotalBackwardPackets  \\\n",
       "0         1.695998     -1.626221        -0.234635             -1.657288   \n",
       "1         1.696355     -0.959273        -1.304105             -0.439685   \n",
       "2         1.696357     -1.103693        -1.304105             -0.439685   \n",
       "3         1.677730     -1.186392        -1.304105             -0.439685   \n",
       "4         1.695994     -1.626221        -0.234635             -1.657288   \n",
       "\n",
       "   TotalLengthofFwdPackets  TotalLengthofBwdPackets  FwdPacketLengthMax  \\\n",
       "0                -0.557447                -1.350729           -0.686984   \n",
       "1                -0.817176                -0.712289           -0.686984   \n",
       "2                -0.817176                -0.712289           -0.686984   \n",
       "3                -0.817176                -0.712289           -0.686984   \n",
       "4                -0.557447                -1.350729           -0.686984   \n",
       "\n",
       "   FwdPacketLengthMin  FwdPacketLengthMean  FwdPacketLengthStd  ...  \\\n",
       "0            0.331769            -0.642035           -0.715963  ...   \n",
       "1            0.331769            -0.642035           -0.715963  ...   \n",
       "2            0.331769            -0.642035           -0.715963  ...   \n",
       "3            0.331769            -0.642035           -0.715963  ...   \n",
       "4            0.331769            -0.642035           -0.715963  ...   \n",
       "\n",
       "   min_seg_size_forward  ActiveMean  ActiveStd  ActiveMax  ActiveMin  \\\n",
       "0             -0.908598   -0.492877  -0.279942  -0.492642  -0.492926   \n",
       "1             -0.908598   -0.492877  -0.279942  -0.492642  -0.492926   \n",
       "2             -0.908598   -0.492877  -0.279942  -0.492642  -0.492926   \n",
       "3             -0.908598   -0.492877  -0.279942  -0.492642  -0.492926   \n",
       "4             -0.908598   -0.492877  -0.279942  -0.492642  -0.492926   \n",
       "\n",
       "   IdleMean   IdleStd   IdleMax   IdleMin  Label  \n",
       "0 -0.500941 -0.297011 -0.500941 -0.500941      0  \n",
       "1 -0.500941 -0.297011 -0.500941 -0.500941      0  \n",
       "2 -0.500941 -0.297011 -0.500941 -0.500941      0  \n",
       "3 -0.500941 -0.297011 -0.500941 -0.500941      0  \n",
       "4 -0.500941 -0.297011 -0.500941 -0.500941      0  \n",
       "\n",
       "[5 rows x 79 columns]"
      ]
     },
     "execution_count": 3,
     "metadata": {},
     "output_type": "execute_result"
    }
   ],
   "source": [
    "df.head()"
   ]
  },
  {
   "cell_type": "code",
   "execution_count": 4,
   "id": "50899a82",
   "metadata": {},
   "outputs": [
    {
     "data": {
      "text/plain": [
       "Index(['DestinationPort', 'FlowDuration', 'TotalFwdPackets',\n",
       "       'TotalBackwardPackets', 'TotalLengthofFwdPackets',\n",
       "       'TotalLengthofBwdPackets', 'FwdPacketLengthMax', 'FwdPacketLengthMin',\n",
       "       'FwdPacketLengthMean', 'FwdPacketLengthStd', 'BwdPacketLengthMax',\n",
       "       'BwdPacketLengthMin', 'BwdPacketLengthMean', 'BwdPacketLengthStd',\n",
       "       'FlowBytes/s', 'FlowPackets/s', 'FlowIATMean', 'FlowIATStd',\n",
       "       'FlowIATMax', 'FlowIATMin', 'FwdIATTotal', 'FwdIATMean', 'FwdIATStd',\n",
       "       'FwdIATMax', 'FwdIATMin', 'BwdIATTotal', 'BwdIATMean', 'BwdIATStd',\n",
       "       'BwdIATMax', 'BwdIATMin', 'FwdPSHFlags', 'BwdPSHFlags', 'FwdURGFlags',\n",
       "       'BwdURGFlags', 'FwdHeaderLength', 'BwdHeaderLength', 'FwdPackets/s',\n",
       "       'BwdPackets/s', 'MinPacketLength', 'MaxPacketLength',\n",
       "       'PacketLengthMean', 'PacketLengthStd', 'PacketLengthVariance',\n",
       "       'FINFlagCount', 'SYNFlagCount', 'RSTFlagCount', 'PSHFlagCount',\n",
       "       'ACKFlagCount', 'URGFlagCount', 'CWEFlagCount', 'ECEFlagCount',\n",
       "       'Down/UpRatio', 'AveragePacketSize', 'AvgFwdSegmentSize',\n",
       "       'AvgBwdSegmentSize', 'FwdHeaderLength.1', 'FwdAvgBytes/Bulk',\n",
       "       'FwdAvgPackets/Bulk', 'FwdAvgBulkRate', 'BwdAvgBytes/Bulk',\n",
       "       'BwdAvgPackets/Bulk', 'BwdAvgBulkRate', 'SubflowFwdPackets',\n",
       "       'SubflowFwdBytes', 'SubflowBwdPackets', 'SubflowBwdBytes',\n",
       "       'Init_Win_bytes_forward', 'Init_Win_bytes_backward', 'act_data_pkt_fwd',\n",
       "       'min_seg_size_forward', 'ActiveMean', 'ActiveStd', 'ActiveMax',\n",
       "       'ActiveMin', 'IdleMean', 'IdleStd', 'IdleMax', 'IdleMin', 'Label'],\n",
       "      dtype='object')"
      ]
     },
     "execution_count": 4,
     "metadata": {},
     "output_type": "execute_result"
    }
   ],
   "source": [
    "df.columns"
   ]
  },
  {
   "cell_type": "code",
   "execution_count": 5,
   "id": "5bb511c7",
   "metadata": {},
   "outputs": [
    {
     "data": {
      "text/plain": [
       "(2827876, 79)"
      ]
     },
     "execution_count": 5,
     "metadata": {},
     "output_type": "execute_result"
    }
   ],
   "source": [
    "df.shape"
   ]
  },
  {
   "cell_type": "code",
   "execution_count": 6,
   "id": "c9e8a34d",
   "metadata": {},
   "outputs": [
    {
     "data": {
      "text/plain": [
       "0    2271320\n",
       "3     379737\n",
       "4     158804\n",
       "2      13832\n",
       "5       2180\n",
       "1       1956\n",
       "6         47\n",
       "Name: Label, dtype: int64"
      ]
     },
     "execution_count": 6,
     "metadata": {},
     "output_type": "execute_result"
    }
   ],
   "source": [
    "df['Label'].value_counts()"
   ]
  },
  {
   "cell_type": "code",
   "execution_count": 7,
   "id": "cbfdd569",
   "metadata": {},
   "outputs": [
    {
     "data": {
      "image/png": "[encoded data removed]",
      "text/plain": [
       "<Figure size 360x360 with 1 Axes>"
      ]
     },
     "metadata": {
      "needs_background": "light"
     },
     "output_type": "display_data"
    }
   ],
   "source": [
    "plt.figure(figsize=(5,5))\n",
    "\n",
    "Labels = ('Benign', 'DoS_DDoS', 'Probe', 'Brute_force', 'Web_attack',  'Botnet', 'other')\n",
    "y_pos = np.arange(len(Labels)) \n",
    "amount = df['Label'].value_counts()# [1:]\n",
    "plt.barh(y_pos, amount, align='center', color='#a3c1ad' )\n",
    "plt.yticks(y_pos, Labels)\n",
    "plt.title('Distribution of different types of attacks in the dataset')\n",
    "plt.xlabel('Number of occurences')\n",
    "plt.ylabel('Attack types')\n",
    "for i, v in enumerate(amount):\n",
    "    plt.text(v + 3, i-0.1 , str(v))    \n",
    "plt.show()"
   ]
  },
  {
   "cell_type": "code",
   "execution_count": 11,
   "id": "d8450cb6",
   "metadata": {},
   "outputs": [],
   "source": [
    "#training_data = training_data.loc[df['Label'] != 4]\n",
    "#testing_data = training_data.loc[df['Label'] != 4]"
   ]
  },
  {
   "cell_type": "code",
   "execution_count": 8,
   "id": "21f36a16",
   "metadata": {},
   "outputs": [
    {
     "name": "stdout",
     "output_type": "stream",
     "text": [
      "No. of training examples: 1979513\n",
      "No. of testing examples: 848363\n"
     ]
    }
   ],
   "source": [
    "training_data = df.sample(frac=0.7, random_state=25)\n",
    "testing_data = df.drop(training_data.index)\n",
    "\n",
    "print(f\"No. of training examples: {training_data.shape[0]}\")\n",
    "print(f\"No. of testing examples: {testing_data.shape[0]}\")"
   ]
  },
  {
   "cell_type": "code",
   "execution_count": 9,
   "id": "292592d8",
   "metadata": {},
   "outputs": [
    {
     "data": {
      "text/plain": [
       "0    1589810\n",
       "3     265694\n",
       "4     111381\n",
       "2       9697\n",
       "5       1532\n",
       "1       1367\n",
       "6         32\n",
       "Name: Label, dtype: int64"
      ]
     },
     "execution_count": 9,
     "metadata": {},
     "output_type": "execute_result"
    }
   ],
   "source": [
    "training_data['Label'].value_counts()"
   ]
  },
  {
   "cell_type": "code",
   "execution_count": 10,
   "id": "4c478312",
   "metadata": {},
   "outputs": [
    {
     "data": {
      "text/plain": [
       "0    681510\n",
       "3    114043\n",
       "4     47423\n",
       "2      4135\n",
       "5       648\n",
       "1       589\n",
       "6        15\n",
       "Name: Label, dtype: int64"
      ]
     },
     "execution_count": 10,
     "metadata": {},
     "output_type": "execute_result"
    }
   ],
   "source": [
    "testing_data['Label'].value_counts()"
   ]
  },
  {
   "cell_type": "code",
   "execution_count": 11,
   "id": "5b59aed2",
   "metadata": {},
   "outputs": [],
   "source": [
    "#Splitting dataset into features and labels.\n",
    "#labels = df['Label']\n",
    "#features = df.loc[:, df.columns != 'Label']\n",
    "\n",
    "labels_train = training_data['Label']\n",
    "features_train = training_data.loc[:, training_data.columns != 'Label']\n",
    "\n",
    "labels_test = testing_data['Label']\n",
    "features_test = testing_data.loc[:, testing_data.columns != 'Label']"
   ]
  },
  {
   "cell_type": "code",
   "execution_count": 12,
   "id": "6433a3b6",
   "metadata": {},
   "outputs": [
    {
     "data": {
      "text/plain": [
       "((1979513, 78), (848363, 78), (1979513,), (848363,))"
      ]
     },
     "execution_count": 12,
     "metadata": {},
     "output_type": "execute_result"
    }
   ],
   "source": [
    "# The next step is to split training and testing data. For this we will use sklearn function train_test_split().\n",
    "#features_train, features_test, labels_train, labels_test = train_test_split(features, labels, test_size=.3)\n",
    "features_train.shape, features_test.shape, labels_train.shape, labels_test.shape\n"
   ]
  },
  {
   "cell_type": "code",
   "execution_count": 13,
   "id": "5b990e34",
   "metadata": {},
   "outputs": [],
   "source": [
    "from sklearn.metrics import plot_confusion_matrix\n",
    "from sklearn.tree import DecisionTreeClassifier\n",
    "from sklearn.linear_model import LogisticRegression\n",
    "\n",
    "def print_score(clf, X_train, y_train, X_test, y_test, train=True):\n",
    "    fig, ax = plt.subplots(figsize=(10, 10))\n",
    "    '''\n",
    "    print the accuracy score, classification report and confusion matrix of classifier\n",
    "    '''\n",
    "    if train:\n",
    "        '''\n",
    "        training performance\n",
    "        '''\n",
    "        print(\"Train Result:\\n\")\n",
    "        print(\"accuracy score: {0:.4f}\\n\".format(accuracy_score(y_train, clf.predict(X_train))))\n",
    "        print(\"Classification Report: \\n {}\\n\".format(classification_report(y_train, clf.predict(X_train))))\n",
    "        print(\"Confusion Matrix: \\n {}\\n\".format(confusion_matrix(y_train, clf.predict(X_train))))\n",
    "        plot_confusion_matrix(clf, X_train, y_train,ax=ax) \n",
    "        plt.show() \n",
    "        \n",
    "        \n",
    "        \n",
    "\n",
    "    elif train==False:\n",
    "        '''\n",
    "        test performance\n",
    "        '''\n",
    "        print(\"Test Result:\\n\")        \n",
    "        print(\"accuracy score: {0:.4f}\\n\".format(accuracy_score(y_test, clf.predict(X_test))))\n",
    "        print(\"Classification Report: \\n {}\\n\".format(classification_report(y_test, clf.predict(X_test))))\n",
    "        print(\"Confusion Matrix: \\n {}\\n\".format(confusion_matrix(y_test, clf.predict(X_test))))\n",
    "        plot_confusion_matrix(clf, X_test, y_test,ax=ax) \n",
    "        plt.show()"
   ]
  },
  {
   "cell_type": "code",
   "execution_count": 14,
   "id": "235fe198",
   "metadata": {},
   "outputs": [
    {
     "name": "stderr",
     "output_type": "stream",
     "text": [
      "/Users/Ebtehaj/opt/anaconda3/lib/python3.8/site-packages/sklearn/linear_model/_logistic.py:763: ConvergenceWarning: lbfgs failed to converge (status=1):\n",
      "STOP: TOTAL NO. of ITERATIONS REACHED LIMIT.\n",
      "\n",
      "Increase the number of iterations (max_iter) or scale the data as shown in:\n",
      "    https://scikit-learn.org/stable/modules/preprocessing.html\n",
      "Please also refer to the documentation for alternative solver options:\n",
      "    https://scikit-learn.org/stable/modules/linear_model.html#logistic-regression\n",
      "  n_iter_i = _check_optimize_result(\n"
     ]
    },
    {
     "data": {
      "text/plain": [
       "LogisticRegression(random_state=42)"
      ]
     },
     "execution_count": 14,
     "metadata": {},
     "output_type": "execute_result"
    }
   ],
   "source": [
    "clf = LogisticRegression(random_state=42)\n",
    "clf.fit(features_train, labels_train) "
   ]
  },
  {
   "cell_type": "code",
   "execution_count": 15,
   "id": "23034316",
   "metadata": {
    "scrolled": true
   },
   "outputs": [
    {
     "name": "stdout",
     "output_type": "stream",
     "text": [
      "Train Result:\n",
      "\n",
      "accuracy score: 0.9906\n",
      "\n",
      "Classification Report: \n",
      "               precision    recall  f1-score   support\n",
      "\n",
      "           0       1.00      0.99      0.99   1589810\n",
      "           1       0.89      0.37      0.52      1367\n",
      "           2       0.98      0.98      0.98      9697\n",
      "           3       0.96      0.98      0.97    265694\n",
      "           4       0.99      1.00      1.00    111381\n",
      "           5       0.32      0.00      0.01      1532\n",
      "           6       0.00      0.00      0.00        32\n",
      "\n",
      "    accuracy                           0.99   1979513\n",
      "   macro avg       0.73      0.62      0.64   1979513\n",
      "weighted avg       0.99      0.99      0.99   1979513\n",
      "\n",
      "\n",
      "Confusion Matrix: \n",
      " [[1578162      60     233   10584     755      15       1]\n",
      " [    861     506       0       0       0       0       0]\n",
      " [    160       0    9499      27      11       0       0]\n",
      " [   4169       0       1  261494      30       0       0]\n",
      " [     64       0       1     100  111216       0       0]\n",
      " [   1513       0       0      12       0       7       0]\n",
      " [     32       0       0       0       0       0       0]]\n",
      "\n"
     ]
    },
    {
     "data": {
      "image/png": "[encoded data removed]",
      "text/plain": [
       "<Figure size 720x720 with 2 Axes>"
      ]
     },
     "metadata": {
      "needs_background": "light"
     },
     "output_type": "display_data"
    }
   ],
   "source": [
    "print_score(clf, features_train,labels_train, features_test, labels_test, train=True)\n",
    "#training result"
   ]
  },
  {
   "cell_type": "code",
   "execution_count": 16,
   "id": "aa0d2d5b",
   "metadata": {},
   "outputs": [
    {
     "name": "stdout",
     "output_type": "stream",
     "text": [
      "Test Result:\n",
      "\n",
      "accuracy score: 0.9905\n",
      "\n"
     ]
    },
    {
     "name": "stderr",
     "output_type": "stream",
     "text": [
      "/Users/Ebtehaj/opt/anaconda3/lib/python3.8/site-packages/sklearn/metrics/_classification.py:1248: UndefinedMetricWarning: Precision and F-score are ill-defined and being set to 0.0 in labels with no predicted samples. Use `zero_division` parameter to control this behavior.\n",
      "  _warn_prf(average, modifier, msg_start, len(result))\n",
      "/Users/Ebtehaj/opt/anaconda3/lib/python3.8/site-packages/sklearn/metrics/_classification.py:1248: UndefinedMetricWarning: Precision and F-score are ill-defined and being set to 0.0 in labels with no predicted samples. Use `zero_division` parameter to control this behavior.\n",
      "  _warn_prf(average, modifier, msg_start, len(result))\n",
      "/Users/Ebtehaj/opt/anaconda3/lib/python3.8/site-packages/sklearn/metrics/_classification.py:1248: UndefinedMetricWarning: Precision and F-score are ill-defined and being set to 0.0 in labels with no predicted samples. Use `zero_division` parameter to control this behavior.\n",
      "  _warn_prf(average, modifier, msg_start, len(result))\n"
     ]
    },
    {
     "name": "stdout",
     "output_type": "stream",
     "text": [
      "Classification Report: \n",
      "               precision    recall  f1-score   support\n",
      "\n",
      "           0       1.00      0.99      0.99    681510\n",
      "           1       0.91      0.38      0.54       589\n",
      "           2       0.97      0.98      0.98      4135\n",
      "           3       0.96      0.98      0.97    114043\n",
      "           4       0.99      1.00      1.00     47423\n",
      "           5       0.50      0.01      0.01       648\n",
      "           6       0.00      0.00      0.00        15\n",
      "\n",
      "    accuracy                           0.99    848363\n",
      "   macro avg       0.76      0.62      0.64    848363\n",
      "weighted avg       0.99      0.99      0.99    848363\n",
      "\n",
      "\n",
      "Confusion Matrix: \n",
      " [[676478     22    108   4574    324      4      0]\n",
      " [   364    225      0      0      0      0      0]\n",
      " [    70      0   4050     10      5      0      0]\n",
      " [  1843      0      1 112178     21      0      0]\n",
      " [    17      0      0     45  47361      0      0]\n",
      " [   633      0      0     11      0      4      0]\n",
      " [    15      0      0      0      0      0      0]]\n",
      "\n"
     ]
    },
    {
     "data": {
      "image/png": "[encoded data removed]",
      "text/plain": [
       "<Figure size 720x720 with 2 Axes>"
      ]
     },
     "metadata": {
      "needs_background": "light"
     },
     "output_type": "display_data"
    }
   ],
   "source": [
    "print_score(clf, features_train,labels_train, features_test, labels_test, train=False) \n",
    "#testing result"
   ]
  },
  {
   "cell_type": "code",
   "execution_count": 17,
   "id": "da19665d",
   "metadata": {},
   "outputs": [
    {
     "data": {
      "text/plain": [
       "['LogisticRegression1.model']"
      ]
     },
     "execution_count": 17,
     "metadata": {},
     "output_type": "execute_result"
    }
   ],
   "source": [
    "from joblib import dump, load\n",
    "dump(clf, 'LogisticRegression1.model')"
   ]
  },
  {
   "cell_type": "code",
   "execution_count": 18,
   "id": "db61adb0",
   "metadata": {},
   "outputs": [
    {
     "data": {
      "text/html": [
       "<div>\n",
       "<style scoped>\n",
       "    .dataframe tbody tr th:only-of-type {\n",
       "        vertical-align: middle;\n",
       "    }\n",
       "\n",
       "    .dataframe tbody tr th {\n",
       "        vertical-align: top;\n",
       "    }\n",
       "\n",
       "    .dataframe thead th {\n",
       "        text-align: right;\n",
       "    }\n",
       "</style>\n",
       "<table border=\"1\" class=\"dataframe\">\n",
       "  <thead>\n",
       "    <tr style=\"text-align: right;\">\n",
       "      <th></th>\n",
       "      <th>DestinationPort</th>\n",
       "      <th>FlowDuration</th>\n",
       "      <th>TotalFwdPackets</th>\n",
       "      <th>TotalBackwardPackets</th>\n",
       "      <th>TotalLengthofFwdPackets</th>\n",
       "      <th>TotalLengthofBwdPackets</th>\n",
       "      <th>FwdPacketLengthMax</th>\n",
       "      <th>FwdPacketLengthMin</th>\n",
       "      <th>FwdPacketLengthMean</th>\n",
       "      <th>FwdPacketLengthStd</th>\n",
       "      <th>...</th>\n",
       "      <th>min_seg_size_forward</th>\n",
       "      <th>ActiveMean</th>\n",
       "      <th>ActiveStd</th>\n",
       "      <th>ActiveMax</th>\n",
       "      <th>ActiveMin</th>\n",
       "      <th>IdleMean</th>\n",
       "      <th>IdleStd</th>\n",
       "      <th>IdleMax</th>\n",
       "      <th>IdleMin</th>\n",
       "      <th>Label</th>\n",
       "    </tr>\n",
       "  </thead>\n",
       "  <tbody>\n",
       "    <tr>\n",
       "      <th>0</th>\n",
       "      <td>-0.459144</td>\n",
       "      <td>0.085274</td>\n",
       "      <td>0.240084</td>\n",
       "      <td>0.930689</td>\n",
       "      <td>-0.276472</td>\n",
       "      <td>1.350602</td>\n",
       "      <td>-0.170113</td>\n",
       "      <td>-0.917232</td>\n",
       "      <td>-0.463696</td>\n",
       "      <td>0.882105</td>\n",
       "      <td>...</td>\n",
       "      <td>-0.840757</td>\n",
       "      <td>-0.444501</td>\n",
       "      <td>-0.279157</td>\n",
       "      <td>-0.451358</td>\n",
       "      <td>-0.431238</td>\n",
       "      <td>-0.469557</td>\n",
       "      <td>-0.253950</td>\n",
       "      <td>-0.492483</td>\n",
       "      <td>-0.443649</td>\n",
       "      <td>2.718807</td>\n",
       "    </tr>\n",
       "    <tr>\n",
       "      <th>1</th>\n",
       "      <td>-0.532525</td>\n",
       "      <td>0.336711</td>\n",
       "      <td>0.221567</td>\n",
       "      <td>0.986129</td>\n",
       "      <td>-0.326226</td>\n",
       "      <td>1.513589</td>\n",
       "      <td>-0.149951</td>\n",
       "      <td>-0.984836</td>\n",
       "      <td>-0.491035</td>\n",
       "      <td>0.953570</td>\n",
       "      <td>...</td>\n",
       "      <td>-0.889071</td>\n",
       "      <td>-0.505402</td>\n",
       "      <td>-0.301250</td>\n",
       "      <td>-0.491262</td>\n",
       "      <td>-0.457482</td>\n",
       "      <td>-0.502724</td>\n",
       "      <td>-0.296481</td>\n",
       "      <td>-0.491243</td>\n",
       "      <td>-0.468101</td>\n",
       "      <td>2.980018</td>\n",
       "    </tr>\n",
       "    <tr>\n",
       "      <th>2</th>\n",
       "      <td>-0.524784</td>\n",
       "      <td>0.852361</td>\n",
       "      <td>0.319243</td>\n",
       "      <td>1.160202</td>\n",
       "      <td>-0.371111</td>\n",
       "      <td>1.722526</td>\n",
       "      <td>-0.282636</td>\n",
       "      <td>-1.101251</td>\n",
       "      <td>-0.513065</td>\n",
       "      <td>1.131595</td>\n",
       "      <td>...</td>\n",
       "      <td>-1.111123</td>\n",
       "      <td>-0.449634</td>\n",
       "      <td>-0.373656</td>\n",
       "      <td>-0.483931</td>\n",
       "      <td>-0.546717</td>\n",
       "      <td>-0.642743</td>\n",
       "      <td>-0.282576</td>\n",
       "      <td>-0.600369</td>\n",
       "      <td>-0.557923</td>\n",
       "      <td>3.319430</td>\n",
       "    </tr>\n",
       "    <tr>\n",
       "      <th>3</th>\n",
       "      <td>-0.438450</td>\n",
       "      <td>0.588646</td>\n",
       "      <td>-0.271242</td>\n",
       "      <td>0.886539</td>\n",
       "      <td>-0.422280</td>\n",
       "      <td>1.387528</td>\n",
       "      <td>-0.178980</td>\n",
       "      <td>-0.894761</td>\n",
       "      <td>-0.340922</td>\n",
       "      <td>0.995208</td>\n",
       "      <td>...</td>\n",
       "      <td>-0.872311</td>\n",
       "      <td>-0.441382</td>\n",
       "      <td>-0.290450</td>\n",
       "      <td>-0.463084</td>\n",
       "      <td>-0.446277</td>\n",
       "      <td>-0.442476</td>\n",
       "      <td>-0.235062</td>\n",
       "      <td>-0.466870</td>\n",
       "      <td>-0.420811</td>\n",
       "      <td>2.683105</td>\n",
       "    </tr>\n",
       "    <tr>\n",
       "      <th>4</th>\n",
       "      <td>-0.410993</td>\n",
       "      <td>0.651405</td>\n",
       "      <td>-0.296635</td>\n",
       "      <td>0.941144</td>\n",
       "      <td>-0.434272</td>\n",
       "      <td>1.381380</td>\n",
       "      <td>-0.213349</td>\n",
       "      <td>-0.885433</td>\n",
       "      <td>-0.370413</td>\n",
       "      <td>1.049478</td>\n",
       "      <td>...</td>\n",
       "      <td>-0.872205</td>\n",
       "      <td>-0.449754</td>\n",
       "      <td>-0.292223</td>\n",
       "      <td>-0.464305</td>\n",
       "      <td>-0.457972</td>\n",
       "      <td>-0.403181</td>\n",
       "      <td>-0.271818</td>\n",
       "      <td>-0.485173</td>\n",
       "      <td>-0.420672</td>\n",
       "      <td>2.735113</td>\n",
       "    </tr>\n",
       "    <tr>\n",
       "      <th>5</th>\n",
       "      <td>-0.463084</td>\n",
       "      <td>0.750041</td>\n",
       "      <td>-0.326220</td>\n",
       "      <td>1.065835</td>\n",
       "      <td>-0.507639</td>\n",
       "      <td>1.609692</td>\n",
       "      <td>-0.238769</td>\n",
       "      <td>-1.021632</td>\n",
       "      <td>-0.440928</td>\n",
       "      <td>1.212783</td>\n",
       "      <td>...</td>\n",
       "      <td>-1.028316</td>\n",
       "      <td>-0.512807</td>\n",
       "      <td>-0.343769</td>\n",
       "      <td>-0.540327</td>\n",
       "      <td>-0.530444</td>\n",
       "      <td>-0.485582</td>\n",
       "      <td>-0.309404</td>\n",
       "      <td>-0.599417</td>\n",
       "      <td>-0.504833</td>\n",
       "      <td>3.200650</td>\n",
       "    </tr>\n",
       "    <tr>\n",
       "      <th>6</th>\n",
       "      <td>-0.444191</td>\n",
       "      <td>0.660019</td>\n",
       "      <td>-0.298927</td>\n",
       "      <td>0.951819</td>\n",
       "      <td>-0.449466</td>\n",
       "      <td>1.476635</td>\n",
       "      <td>-0.194347</td>\n",
       "      <td>-0.943506</td>\n",
       "      <td>-0.382021</td>\n",
       "      <td>1.100944</td>\n",
       "      <td>...</td>\n",
       "      <td>-0.933851</td>\n",
       "      <td>-0.482515</td>\n",
       "      <td>-0.307304</td>\n",
       "      <td>-0.485461</td>\n",
       "      <td>-0.476420</td>\n",
       "      <td>-0.479861</td>\n",
       "      <td>-0.256112</td>\n",
       "      <td>-0.523545</td>\n",
       "      <td>-0.445831</td>\n",
       "      <td>2.920707</td>\n",
       "    </tr>\n",
       "    <tr>\n",
       "      <th>7</th>\n",
       "      <td>-0.609602</td>\n",
       "      <td>0.209315</td>\n",
       "      <td>0.296773</td>\n",
       "      <td>1.223601</td>\n",
       "      <td>-0.355154</td>\n",
       "      <td>1.731387</td>\n",
       "      <td>-0.272223</td>\n",
       "      <td>-1.152826</td>\n",
       "      <td>-0.582774</td>\n",
       "      <td>1.186592</td>\n",
       "      <td>...</td>\n",
       "      <td>-1.058991</td>\n",
       "      <td>-0.558859</td>\n",
       "      <td>-0.319479</td>\n",
       "      <td>-0.545870</td>\n",
       "      <td>-0.538428</td>\n",
       "      <td>-0.503069</td>\n",
       "      <td>-0.236482</td>\n",
       "      <td>-0.651681</td>\n",
       "      <td>-0.535902</td>\n",
       "      <td>3.515975</td>\n",
       "    </tr>\n",
       "    <tr>\n",
       "      <th>8</th>\n",
       "      <td>-0.560382</td>\n",
       "      <td>0.416730</td>\n",
       "      <td>0.280396</td>\n",
       "      <td>1.023498</td>\n",
       "      <td>-0.368008</td>\n",
       "      <td>1.626376</td>\n",
       "      <td>-0.205847</td>\n",
       "      <td>-1.074645</td>\n",
       "      <td>-0.538324</td>\n",
       "      <td>1.041522</td>\n",
       "      <td>...</td>\n",
       "      <td>-0.984167</td>\n",
       "      <td>-0.543986</td>\n",
       "      <td>-0.308810</td>\n",
       "      <td>-0.550361</td>\n",
       "      <td>-0.486102</td>\n",
       "      <td>-0.550879</td>\n",
       "      <td>-0.307589</td>\n",
       "      <td>-0.563191</td>\n",
       "      <td>-0.525944</td>\n",
       "      <td>3.234569</td>\n",
       "    </tr>\n",
       "    <tr>\n",
       "      <th>9</th>\n",
       "      <td>-0.425611</td>\n",
       "      <td>0.729029</td>\n",
       "      <td>-0.322086</td>\n",
       "      <td>1.033918</td>\n",
       "      <td>-0.475782</td>\n",
       "      <td>1.522625</td>\n",
       "      <td>-0.232831</td>\n",
       "      <td>-0.964269</td>\n",
       "      <td>-0.407366</td>\n",
       "      <td>1.166715</td>\n",
       "      <td>...</td>\n",
       "      <td>-0.985910</td>\n",
       "      <td>-0.489929</td>\n",
       "      <td>-0.327681</td>\n",
       "      <td>-0.514455</td>\n",
       "      <td>-0.501794</td>\n",
       "      <td>-0.432515</td>\n",
       "      <td>-0.285933</td>\n",
       "      <td>-0.560454</td>\n",
       "      <td>-0.472245</td>\n",
       "      <td>3.013362</td>\n",
       "    </tr>\n",
       "  </tbody>\n",
       "</table>\n",
       "<p>10 rows × 79 columns</p>\n",
       "</div>"
      ],
      "text/plain": [
       "   DestinationPort  FlowDuration  TotalFwdPackets  TotalBackwardPackets  \\\n",
       "0        -0.459144      0.085274         0.240084              0.930689   \n",
       "1        -0.532525      0.336711         0.221567              0.986129   \n",
       "2        -0.524784      0.852361         0.319243              1.160202   \n",
       "3        -0.438450      0.588646        -0.271242              0.886539   \n",
       "4        -0.410993      0.651405        -0.296635              0.941144   \n",
       "5        -0.463084      0.750041        -0.326220              1.065835   \n",
       "6        -0.444191      0.660019        -0.298927              0.951819   \n",
       "7        -0.609602      0.209315         0.296773              1.223601   \n",
       "8        -0.560382      0.416730         0.280396              1.023498   \n",
       "9        -0.425611      0.729029        -0.322086              1.033918   \n",
       "\n",
       "   TotalLengthofFwdPackets  TotalLengthofBwdPackets  FwdPacketLengthMax  \\\n",
       "0                -0.276472                 1.350602           -0.170113   \n",
       "1                -0.326226                 1.513589           -0.149951   \n",
       "2                -0.371111                 1.722526           -0.282636   \n",
       "3                -0.422280                 1.387528           -0.178980   \n",
       "4                -0.434272                 1.381380           -0.213349   \n",
       "5                -0.507639                 1.609692           -0.238769   \n",
       "6                -0.449466                 1.476635           -0.194347   \n",
       "7                -0.355154                 1.731387           -0.272223   \n",
       "8                -0.368008                 1.626376           -0.205847   \n",
       "9                -0.475782                 1.522625           -0.232831   \n",
       "\n",
       "   FwdPacketLengthMin  FwdPacketLengthMean  FwdPacketLengthStd  ...  \\\n",
       "0           -0.917232            -0.463696            0.882105  ...   \n",
       "1           -0.984836            -0.491035            0.953570  ...   \n",
       "2           -1.101251            -0.513065            1.131595  ...   \n",
       "3           -0.894761            -0.340922            0.995208  ...   \n",
       "4           -0.885433            -0.370413            1.049478  ...   \n",
       "5           -1.021632            -0.440928            1.212783  ...   \n",
       "6           -0.943506            -0.382021            1.100944  ...   \n",
       "7           -1.152826            -0.582774            1.186592  ...   \n",
       "8           -1.074645            -0.538324            1.041522  ...   \n",
       "9           -0.964269            -0.407366            1.166715  ...   \n",
       "\n",
       "   min_seg_size_forward  ActiveMean  ActiveStd  ActiveMax  ActiveMin  \\\n",
       "0             -0.840757   -0.444501  -0.279157  -0.451358  -0.431238   \n",
       "1             -0.889071   -0.505402  -0.301250  -0.491262  -0.457482   \n",
       "2             -1.111123   -0.449634  -0.373656  -0.483931  -0.546717   \n",
       "3             -0.872311   -0.441382  -0.290450  -0.463084  -0.446277   \n",
       "4             -0.872205   -0.449754  -0.292223  -0.464305  -0.457972   \n",
       "5             -1.028316   -0.512807  -0.343769  -0.540327  -0.530444   \n",
       "6             -0.933851   -0.482515  -0.307304  -0.485461  -0.476420   \n",
       "7             -1.058991   -0.558859  -0.319479  -0.545870  -0.538428   \n",
       "8             -0.984167   -0.543986  -0.308810  -0.550361  -0.486102   \n",
       "9             -0.985910   -0.489929  -0.327681  -0.514455  -0.501794   \n",
       "\n",
       "   IdleMean   IdleStd   IdleMax   IdleMin     Label  \n",
       "0 -0.469557 -0.253950 -0.492483 -0.443649  2.718807  \n",
       "1 -0.502724 -0.296481 -0.491243 -0.468101  2.980018  \n",
       "2 -0.642743 -0.282576 -0.600369 -0.557923  3.319430  \n",
       "3 -0.442476 -0.235062 -0.466870 -0.420811  2.683105  \n",
       "4 -0.403181 -0.271818 -0.485173 -0.420672  2.735113  \n",
       "5 -0.485582 -0.309404 -0.599417 -0.504833  3.200650  \n",
       "6 -0.479861 -0.256112 -0.523545 -0.445831  2.920707  \n",
       "7 -0.503069 -0.236482 -0.651681 -0.535902  3.515975  \n",
       "8 -0.550879 -0.307589 -0.563191 -0.525944  3.234569  \n",
       "9 -0.432515 -0.285933 -0.560454 -0.472245  3.013362  \n",
       "\n",
       "[10 rows x 79 columns]"
      ]
     },
     "execution_count": 18,
     "metadata": {},
     "output_type": "execute_result"
    }
   ],
   "source": [
    "import math\n",
    "gan_df = pd.read_csv('Generated_sample.csv')\n",
    "gan_df.drop('Unnamed: 0' , axis = 1 , inplace =True)\n",
    "gan_df.head(10)"
   ]
  },
  {
   "cell_type": "code",
   "execution_count": 19,
   "id": "c4308e04",
   "metadata": {},
   "outputs": [],
   "source": [
    "gan_df.Label = gan_df.Label.apply(lambda x : math.floor(x))"
   ]
  },
  {
   "cell_type": "code",
   "execution_count": 20,
   "id": "f7f455ec",
   "metadata": {},
   "outputs": [
    {
     "data": {
      "text/plain": [
       "3    27967\n",
       "2    21471\n",
       "4      546\n",
       "5       15\n",
       "6        1\n",
       "Name: Label, dtype: int64"
      ]
     },
     "execution_count": 20,
     "metadata": {},
     "output_type": "execute_result"
    }
   ],
   "source": [
    "gan_df['Label'].value_counts()"
   ]
  },
  {
   "cell_type": "code",
   "execution_count": 21,
   "id": "a0bf6630",
   "metadata": {},
   "outputs": [
    {
     "data": {
      "text/plain": [
       "(50000, 79)"
      ]
     },
     "execution_count": 21,
     "metadata": {},
     "output_type": "execute_result"
    }
   ],
   "source": [
    "gan_df.shape"
   ]
  },
  {
   "cell_type": "code",
   "execution_count": 22,
   "id": "46f9c304",
   "metadata": {},
   "outputs": [],
   "source": [
    "#Splitting dataset into features and labels.\n",
    "labels = gan_df['Label']\n",
    "features = gan_df.loc[:, gan_df.columns != 'Label']"
   ]
  },
  {
   "cell_type": "code",
   "execution_count": 23,
   "id": "6fb93bcf",
   "metadata": {},
   "outputs": [
    {
     "name": "stdout",
     "output_type": "stream",
     "text": [
      "Result on Gan Dataset :\n",
      "\n",
      "accuracy score: 0.5593\n",
      "\n",
      "Classification Report: \n",
      "               precision    recall  f1-score   support\n",
      "\n",
      "           0       0.00      0.00      0.00         0\n",
      "           2       0.00      0.00      0.00     21471\n",
      "           3       0.56      1.00      0.72     27967\n",
      "           4       0.00      0.00      0.00       546\n",
      "           5       0.00      0.00      0.00        15\n",
      "           6       0.00      0.00      0.00         1\n",
      "\n",
      "    accuracy                           0.56     50000\n",
      "   macro avg       0.09      0.17      0.12     50000\n",
      "weighted avg       0.31      0.56      0.40     50000\n",
      "\n",
      "\n",
      "Confusion Matrix: \n",
      " [[    0     0     0     0     0     0]\n",
      " [   14     0 21457     0     0     0]\n",
      " [    0     0 27967     0     0     0]\n",
      " [    0     0   546     0     0     0]\n",
      " [    0     0    15     0     0     0]\n",
      " [    0     0     1     0     0     0]]\n",
      "\n"
     ]
    },
    {
     "name": "stderr",
     "output_type": "stream",
     "text": [
      "/Users/Ebtehaj/opt/anaconda3/lib/python3.8/site-packages/sklearn/metrics/_classification.py:1248: UndefinedMetricWarning: Precision and F-score are ill-defined and being set to 0.0 in labels with no predicted samples. Use `zero_division` parameter to control this behavior.\n",
      "  _warn_prf(average, modifier, msg_start, len(result))\n",
      "/Users/Ebtehaj/opt/anaconda3/lib/python3.8/site-packages/sklearn/metrics/_classification.py:1248: UndefinedMetricWarning: Recall and F-score are ill-defined and being set to 0.0 in labels with no true samples. Use `zero_division` parameter to control this behavior.\n",
      "  _warn_prf(average, modifier, msg_start, len(result))\n",
      "/Users/Ebtehaj/opt/anaconda3/lib/python3.8/site-packages/sklearn/metrics/_classification.py:1248: UndefinedMetricWarning: Precision and F-score are ill-defined and being set to 0.0 in labels with no predicted samples. Use `zero_division` parameter to control this behavior.\n",
      "  _warn_prf(average, modifier, msg_start, len(result))\n",
      "/Users/Ebtehaj/opt/anaconda3/lib/python3.8/site-packages/sklearn/metrics/_classification.py:1248: UndefinedMetricWarning: Recall and F-score are ill-defined and being set to 0.0 in labels with no true samples. Use `zero_division` parameter to control this behavior.\n",
      "  _warn_prf(average, modifier, msg_start, len(result))\n",
      "/Users/Ebtehaj/opt/anaconda3/lib/python3.8/site-packages/sklearn/metrics/_classification.py:1248: UndefinedMetricWarning: Precision and F-score are ill-defined and being set to 0.0 in labels with no predicted samples. Use `zero_division` parameter to control this behavior.\n",
      "  _warn_prf(average, modifier, msg_start, len(result))\n",
      "/Users/Ebtehaj/opt/anaconda3/lib/python3.8/site-packages/sklearn/metrics/_classification.py:1248: UndefinedMetricWarning: Recall and F-score are ill-defined and being set to 0.0 in labels with no true samples. Use `zero_division` parameter to control this behavior.\n",
      "  _warn_prf(average, modifier, msg_start, len(result))\n"
     ]
    },
    {
     "data": {
      "image/png": "[encoded data removed]",
      "text/plain": [
       "<Figure size 720x720 with 2 Axes>"
      ]
     },
     "metadata": {
      "needs_background": "light"
     },
     "output_type": "display_data"
    }
   ],
   "source": [
    "fig, ax = plt.subplots(figsize=(10, 10))\n",
    "print(\"Result on Gan Dataset :\\n\")\n",
    "print(\"accuracy score: {0:.4f}\\n\".format(accuracy_score(labels, clf.predict(features))))\n",
    "print(\"Classification Report: \\n {}\\n\".format(classification_report(labels, clf.predict(features))))\n",
    "print(\"Confusion Matrix: \\n {}\\n\".format(confusion_matrix(labels, clf.predict(features))))\n",
    "plot_confusion_matrix(clf, features, labels,ax=ax) \n",
    "plt.show() "
   ]
  },
  {
   "cell_type": "code",
   "execution_count": 24,
   "id": "877398ff",
   "metadata": {},
   "outputs": [],
   "source": [
    "gan_df = pd.concat([gan_df, testing_data]) "
   ]
  },
  {
   "cell_type": "code",
   "execution_count": 25,
   "id": "23022de0",
   "metadata": {},
   "outputs": [
    {
     "data": {
      "text/plain": [
       "(898363, 79)"
      ]
     },
     "execution_count": 25,
     "metadata": {},
     "output_type": "execute_result"
    }
   ],
   "source": [
    "gan_df.shape"
   ]
  },
  {
   "cell_type": "code",
   "execution_count": 26,
   "id": "7b61e804",
   "metadata": {},
   "outputs": [
    {
     "data": {
      "text/plain": [
       "0    681510\n",
       "3    142010\n",
       "4     47969\n",
       "2     25606\n",
       "5       663\n",
       "1       589\n",
       "6        16\n",
       "Name: Label, dtype: int64"
      ]
     },
     "execution_count": 26,
     "metadata": {},
     "output_type": "execute_result"
    }
   ],
   "source": [
    "gan_df['Label'].value_counts()"
   ]
  },
  {
   "cell_type": "code",
   "execution_count": 27,
   "id": "c5e55dd6",
   "metadata": {},
   "outputs": [],
   "source": [
    "#Splitting dataset into features and labels.\n",
    "labels = gan_df['Label']\n",
    "features = gan_df.loc[:, gan_df.columns != 'Label']"
   ]
  },
  {
   "cell_type": "code",
   "execution_count": 28,
   "id": "141fe316",
   "metadata": {},
   "outputs": [
    {
     "name": "stdout",
     "output_type": "stream",
     "text": [
      "Result on Gan Dataset :\n",
      "\n",
      "accuracy score: 0.9665\n",
      "\n"
     ]
    },
    {
     "name": "stderr",
     "output_type": "stream",
     "text": [
      "/Users/Ebtehaj/opt/anaconda3/lib/python3.8/site-packages/sklearn/metrics/_classification.py:1248: UndefinedMetricWarning: Precision and F-score are ill-defined and being set to 0.0 in labels with no predicted samples. Use `zero_division` parameter to control this behavior.\n",
      "  _warn_prf(average, modifier, msg_start, len(result))\n",
      "/Users/Ebtehaj/opt/anaconda3/lib/python3.8/site-packages/sklearn/metrics/_classification.py:1248: UndefinedMetricWarning: Precision and F-score are ill-defined and being set to 0.0 in labels with no predicted samples. Use `zero_division` parameter to control this behavior.\n",
      "  _warn_prf(average, modifier, msg_start, len(result))\n",
      "/Users/Ebtehaj/opt/anaconda3/lib/python3.8/site-packages/sklearn/metrics/_classification.py:1248: UndefinedMetricWarning: Precision and F-score are ill-defined and being set to 0.0 in labels with no predicted samples. Use `zero_division` parameter to control this behavior.\n",
      "  _warn_prf(average, modifier, msg_start, len(result))\n"
     ]
    },
    {
     "name": "stdout",
     "output_type": "stream",
     "text": [
      "Classification Report: \n",
      "               precision    recall  f1-score   support\n",
      "\n",
      "           0       1.00      0.99      0.99    681510\n",
      "           1       0.91      0.38      0.54       589\n",
      "           2       0.97      0.16      0.27     25606\n",
      "           3       0.84      0.99      0.91    142010\n",
      "           4       0.99      0.99      0.99     47969\n",
      "           5       0.50      0.01      0.01       663\n",
      "           6       0.00      0.00      0.00        16\n",
      "\n",
      "    accuracy                           0.97    898363\n",
      "   macro avg       0.74      0.50      0.53    898363\n",
      "weighted avg       0.97      0.97      0.96    898363\n",
      "\n",
      "\n",
      "Confusion Matrix: \n",
      " [[676478     22    108   4574    324      4      0]\n",
      " [   364    225      0      0      0      0      0]\n",
      " [    84      0   4050  21467      5      0      0]\n",
      " [  1843      0      1 140145     21      0      0]\n",
      " [    17      0      0    591  47361      0      0]\n",
      " [   633      0      0     26      0      4      0]\n",
      " [    15      0      0      1      0      0      0]]\n",
      "\n"
     ]
    },
    {
     "data": {
      "image/png": "[encoded data removed]",
      "text/plain": [
       "<Figure size 720x720 with 2 Axes>"
      ]
     },
     "metadata": {
      "needs_background": "light"
     },
     "output_type": "display_data"
    }
   ],
   "source": [
    "fig, ax = plt.subplots(figsize=(10, 10))\n",
    "print(\"Result on Gan Dataset :\\n\")\n",
    "print(\"accuracy score: {0:.4f}\\n\".format(accuracy_score(labels, clf.predict(features))))\n",
    "print(\"Classification Report: \\n {}\\n\".format(classification_report(labels, clf.predict(features))))\n",
    "print(\"Confusion Matrix: \\n {}\\n\".format(confusion_matrix(labels, clf.predict(features))))\n",
    "plot_confusion_matrix(clf, features, labels,ax=ax) \n",
    "plt.show() "
   ]
  },
  {
   "cell_type": "code",
   "execution_count": 29,
   "id": "53da93fc",
   "metadata": {},
   "outputs": [
    {
     "data": {
      "text/plain": [
       "['LogisticRegression2.model']"
      ]
     },
     "execution_count": 29,
     "metadata": {},
     "output_type": "execute_result"
    }
   ],
   "source": [
    "from joblib import dump, load\n",
    "dump(clf, 'LogisticRegression2.model')"
   ]
  },
  {
   "cell_type": "code",
   "execution_count": null,
   "id": "3abff355",
   "metadata": {},
   "outputs": [],
   "source": []
  }
 ],
 "metadata": {
  "kernelspec": {
   "display_name": "Python 3",
   "language": "python",
   "name": "python3"
  },
  "language_info": {
   "codemirror_mode": {
    "name": "ipython",
    "version": 3
   },
   "file_extension": ".py",
   "mimetype": "text/x-python",
   "name": "python",
   "nbconvert_exporter": "python",
   "pygments_lexer": "ipython3",
   "version": "3.8.11"
  }
 },
 "nbformat": 4,
 "nbformat_minor": 5
}
